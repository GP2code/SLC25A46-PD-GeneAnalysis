{
 "cells": [
  {
   "cell_type": "markdown",
   "metadata": {},
   "source": [
    "## __Single gene analysis__\n",
    "\n",
    "```GP2 ❤️ Open Science 😍```\n",
    "\n",
    "\n",
    "__0. Getting Started__\n",
    "- Loading Python libraries\n",
    "- Defining functions\n",
    "- Installing packages\n",
    "\n",
    "__1. Copy data from workspace to cloud environment__\n",
    "\n",
    "__2. Extract SLC25A46__\n",
    "\n",
    "__3. Annotate SLC25A46 variants__\n",
    "\n",
    "__4. Extract coding/non-syn variants__\n",
    "\n",
    "__5. Calculate frequency in cases versus controls__\n",
    "\n",
    "__6. Save out results__\n",
    "\n"
   ]
  },
  {
   "cell_type": "markdown",
   "metadata": {},
   "source": [
    "## __Single gene analysis__\n",
    "\n",
    "```GP2 ❤️ Open Science 😍```\n",
    "\n",
    "\n",
    "__0. Getting Started__\n",
    "- Loading Python libraries\n",
    "- Defining functions\n",
    "- Installing packages\n",
    "\n",
    "__1. Copy data from workspace to cloud environment__\n",
    "\n",
    "__2. Extract SLC25A46__\n",
    "\n",
    "__3. Annotate SLC25A46 variants__\n",
    "\n",
    "__4. Extract coding/non-syn variants__\n",
    "\n",
    "__5. Calculate frequency in cases versus controls__\n",
    "\n",
    "__6. Save out results__\n",
    "\n"
   ]
  },
  {
   "cell_type": "markdown",
   "metadata": {},
   "source": [
    "## Getting Started"
   ]
  },
  {
   "cell_type": "markdown",
   "metadata": {},
   "source": [
    "### Loading Python libraries"
   ]
  },
  {
   "cell_type": "code",
   "execution_count": 1,
   "metadata": {},
   "outputs": [
    {
     "name": "stderr",
     "output_type": "stream",
     "text": [
      "/tmp/ipykernel_81/2693492717.py:22: DeprecationWarning: Importing display from IPython.core.display is deprecated since IPython 7.14, please import from IPython display\n",
      "  from IPython.core.display import display, HTML\n"
     ]
    }
   ],
   "source": [
    "# Use the os package to interact with the environment\n",
    "import os\n",
    "\n",
    "# Bring in Pandas for Dataframe functionality\n",
    "import pandas as pd\n",
    "\n",
    "# Numpy for basics\n",
    "\n",
    "import numpy as np\n",
    "\n",
    "# Use StringIO for working with file contents\n",
    "from io import StringIO\n",
    "\n",
    "# Enable IPython to display matplotlib graphs\n",
    "import matplotlib.pyplot as plt\n",
    "%matplotlib inline\n",
    "\n",
    "# Enable interaction with the FireCloud API\n",
    "from firecloud import api as fapi\n",
    "\n",
    "# Import the iPython HTML rendering for displaying links to Google Cloud Console\n",
    "from IPython.core.display import display, HTML\n",
    "\n",
    "# Import urllib modules for building URLs to Google Cloud Console\n",
    "import urllib.parse\n",
    "\n",
    "# BigQuery for querying data\n",
    "from google.cloud import bigquery\n",
    "\n",
    "#Import Sys\n",
    "import sys as sys"
   ]
  },
  {
   "cell_type": "markdown",
   "metadata": {},
   "source": [
    "### Defining functions"
   ]
  },
  {
   "cell_type": "code",
   "execution_count": 2,
   "metadata": {},
   "outputs": [],
   "source": [
    "# Utility routine for printing a shell command before executing it\n",
    "def shell_do(command):\n",
    "    print(f'Executing: {command}', file=sys.stderr)\n",
    "    !$command\n",
    "    \n",
    "def shell_return(command):\n",
    "    print(f'Executing: {command}', file=sys.stderr)\n",
    "    output = !$command\n",
    "    return '\\n'.join(output)\n",
    "\n",
    "# Utility routine for printing a query before executing it\n",
    "def bq_query(query):\n",
    "    print(f'Executing: {query}', file=sys.stderr)\n",
    "    return pd.read_gbq(query, project_id=BILLING_PROJECT_ID, dialect='standard')\n",
    "\n",
    "# Utility routine for display a message and a link\n",
    "def display_html_link(description, link_text, url):\n",
    "    html = f'''\n",
    "    <p>\n",
    "    </p>\n",
    "    <p>\n",
    "    {description}\n",
    "    <a target=_blank href=\"{url}\">{link_text}</a>.\n",
    "https://notebooks.firecloud.org/proxy/terra-18d8e41c/saturn-c0307c3a-6cd0-4eca-9068-61afda6b299f/jupyter/notebooks/Endophilin-A/edit/SH3GL2_AMP-PD_ALF.ipynb#    </p>\n",
    "    '''\n",
    "\n",
    "    display(HTML(html))\n",
    "\n",
    "# Utility routines for reading files from Google Cloud Storage\n",
    "def gcs_read_file(path):\n",
    "    \"\"\"Return the contents of a file in GCS\"\"\"\n",
    "    contents = !gsutil -u {BILLING_PROJECT_ID} cat {path}\n",
    "    return '\\n'.join(contents)\n",
    "    \n",
    "def gcs_read_csv(path, sep=None):\n",
    "    \"\"\"Return a DataFrame from the contents of a delimited file in GCS\"\"\"\n",
    "    return pd.read_csv(StringIO(gcs_read_file(path)), sep=sep, engine='python')\n",
    "\n",
    "# Utility routine for displaying a message and link to Cloud Console\n",
    "def link_to_cloud_console_gcs(description, link_text, gcs_path):\n",
    "    url = '{}?{}'.format(\n",
    "        os.path.join('https://console.cloud.google.com/storage/browser',\n",
    "                     gcs_path.replace(\"chrome://\",\"\")),\n",
    "        urllib.parse.urlencode({'userProject': BILLING_PROJECT_ID}))\n",
    "\n",
    "    display_html_link(description, link_text, url)"
   ]
  },
  {
   "cell_type": "markdown",
   "metadata": {},
   "source": [
    "### Set paths"
   ]
  },
  {
   "cell_type": "code",
   "execution_count": null,
   "metadata": {},
   "outputs": [],
   "source": [
    "# Set up billing project and data path variables\n",
    "BILLING_PROJECT_ID = os.environ['GOOGLE_PROJECT']\n",
    "WORKSPACE_NAMESPACE = os.environ['WORKSPACE_NAMESPACE']\n",
    "WORKSPACE_NAME = os.environ['WORKSPACE_NAME']\n",
    "WORKSPACE_BUCKET = os.environ['WORKSPACE_BUCKET']\n",
    "\n",
    "WORKSPACE_ATTRIBUTES = fapi.get_workspace(WORKSPACE_NAMESPACE, WORKSPACE_NAME).json().get('workspace',{}).get('attributes',{})\n",
    "\n",
    "## Print the information to check we are in the proper release and billing \n",
    "## This will be different for you, the user, depending on the billing project your workspace is on\n",
    "print('Billing and Workspace')\n",
    "print(f'Workspace Name: {WORKSPACE_NAME}')\n",
    "print(f'Billing Project: {BILLING_PROJECT_ID}')\n",
    "print(f'Workspace Bucket, where you can upload and download data: {WORKSPACE_BUCKET}')\n",
    "print('')\n",
    "\n",
    "\n",
    "## GP2 v5.0\n",
    "## Explicitly define release v5.0 path \n",
    "GP2_RELEASE_PATH = 'path/'\n",
    "GP2_CLINICAL_RELEASE_PATH = f'{GP2_RELEASE_PATH}/clinical_data'\n",
    "GP2_RAW_GENO_PATH = f'{GP2_RELEASE_PATH}/raw_genotypes'\n",
    "GP2_IMPUTED_GENO_PATH = f'{GP2_RELEASE_PATH}/imputed_genotypes'\n",
    "print('GP2 v5.0')\n",
    "print(f'Path to GP2 v5.0 Clinical Data: {GP2_CLINICAL_RELEASE_PATH}')\n",
    "print(f'Path to GP2 v5.0 Raw Genotype Data: {GP2_RAW_GENO_PATH}')\n",
    "print(f'Path to GP2 v5.0 Imputed Genotype Data: {GP2_IMPUTED_GENO_PATH}')\n",
    "\n",
    "\n",
    "## AMP-PD v3.0\n",
    "## Explicitly define release v3.0 path \n",
    "AMP_RELEASE_PATH = 'path/'\n",
    "AMP_CLINICAL_RELEASE_PATH = f'{AMP_RELEASE_PATH}/clinical'\n",
    "\n",
    "AMP_WGS_RELEASE_PATH = 'path/'\n",
    "AMP_WGS_RELEASE_PLINK_PATH = os.path.join(AMP_WGS_RELEASE_PATH, 'plink')\n",
    "\n",
    "print('AMP-PD v3.0')\n",
    "print(f'Path to AMP-PD v3.0 Clinical Data: {AMP_CLINICAL_RELEASE_PATH}')\n",
    "print(f'Path to AMP-PD v3.0 WGS Data: {AMP_WGS_RELEASE_PLINK_PATH}')\n",
    "print('')"
   ]
  },
  {
   "cell_type": "markdown",
   "metadata": {},
   "source": [
    "### Install packages"
   ]
  },
  {
   "cell_type": "markdown",
   "metadata": {},
   "source": [
    "### Install Plink 1.9 and Plink 2.0"
   ]
  },
  {
   "cell_type": "code",
   "execution_count": 4,
   "metadata": {},
   "outputs": [
    {
     "name": "stdout",
     "output_type": "stream",
     "text": [
      "Plink1.9 is already installed in /home/jupyter/tools/\n",
      "Plink2 is already installed in /home/jupyter/tools/\n"
     ]
    }
   ],
   "source": [
    "%%bash\n",
    "\n",
    "mkdir -p ~/tools\n",
    "cd ~/tools\n",
    "\n",
    "if test -e /home/jupyter/tools/plink; then\n",
    "echo \"Plink1.9 is already installed in /home/jupyter/tools/\"\n",
    "\n",
    "else\n",
    "echo -e \"Downloading plink \\n    -------\"\n",
    "wget -N http://s3.amazonaws.com/plink1-assets/plink_linux_x86_64_20190304.zip \n",
    "unzip -o plink_linux_x86_64_20190304.zip\n",
    "echo -e \"\\n plink downloaded and unzipped in /home/jupyter/tools \\n \"\n",
    "\n",
    "fi\n",
    "\n",
    "\n",
    "if test -e /home/jupyter/tools/plink2; then\n",
    "echo \"Plink2 is already installed in /home/jupyter/tools/\"\n",
    "\n",
    "else\n",
    "echo -e \"Downloading plink2 \\n    -------\"\n",
    "wget -N https://s3.amazonaws.com/plink2-assets/alpha3/plink2_linux_avx2_20220603.zip\n",
    "unzip -o plink2_linux_avx2_20220603.zip\n",
    "echo -e \"\\n plink2 downloaded and unzipped in /home/jupyter/tools \\n \"\n",
    "\n",
    "fi"
   ]
  },
  {
   "cell_type": "code",
   "execution_count": 5,
   "metadata": {},
   "outputs": [
    {
     "name": "stdout",
     "output_type": "stream",
     "text": [
      "annovar\n",
      "annovar.latest.tar.gz\n",
      "LICENSE\n",
      "plink\n",
      "plink2\n",
      "plink2_linux_x86_64_20240504.zip\n",
      "plink_linux_x86_64_20190304.zip\n",
      "prettify\n",
      "toy.map\n",
      "toy.ped\n"
     ]
    }
   ],
   "source": [
    "%%bash\n",
    "ls /home/jupyter/tools/"
   ]
  },
  {
   "cell_type": "markdown",
   "metadata": {},
   "source": [
    "### Remote restrictions"
   ]
  },
  {
   "cell_type": "code",
   "execution_count": 6,
   "metadata": {},
   "outputs": [],
   "source": [
    "%%bash\n",
    "\n",
    "# chmod plink 1.9 \n",
    "chmod u+x /home/jupyter/tools/plink"
   ]
  },
  {
   "cell_type": "code",
   "execution_count": 7,
   "metadata": {},
   "outputs": [],
   "source": [
    "%%bash\n",
    "\n",
    "# chmod plink 2.0\n",
    "chmod u+x /home/jupyter/tools/plink2"
   ]
  },
  {
   "cell_type": "markdown",
   "metadata": {},
   "source": [
    "### Install ANNOVAR"
   ]
  },
  {
   "cell_type": "code",
   "execution_count": 8,
   "metadata": {},
   "outputs": [
    {
     "name": "stdout",
     "output_type": "stream",
     "text": [
      "annovar is already installed in /home/jupyter/tools/\n"
     ]
    }
   ],
   "source": [
    "%%bash\n",
    "\n",
    "# Install ANNOVAR:\n",
    "# https://www.openbioinformatics.org/annovar/annovar_download_form.php\n",
    "\n",
    "if test -e /home/jupyter/tools/annovar; then\n",
    "\n",
    "echo \"annovar is already installed in /home/jupyter/tools/\"\n",
    "else\n",
    "echo \"annovar is not installed\"\n",
    "cd /home/jupyter/tools/\n",
    "\n",
    "wget http://www.openbioinformatics.org/annovar/download/0wgxR2rIVP/annovar.latest.tar.gz\n",
    "\n",
    "tar xvfz annovar.latest.tar.gz\n",
    "\n",
    "fi"
   ]
  },
  {
   "cell_type": "code",
   "execution_count": 9,
   "metadata": {},
   "outputs": [
    {
     "name": "stdout",
     "output_type": "stream",
     "text": [
      "annovar\n",
      "annovar.latest.tar.gz\n",
      "LICENSE\n",
      "plink\n",
      "plink2\n",
      "plink2_linux_x86_64_20240504.zip\n",
      "plink_linux_x86_64_20190304.zip\n",
      "prettify\n",
      "toy.map\n",
      "toy.ped\n"
     ]
    }
   ],
   "source": [
    "%%bash\n",
    "ls /home/jupyter/tools/"
   ]
  },
  {
   "cell_type": "markdown",
   "metadata": {},
   "source": [
    "### Install ANNOVAR: Download sources of annotation"
   ]
  },
  {
   "cell_type": "code",
   "execution_count": 10,
   "metadata": {},
   "outputs": [
    {
     "name": "stderr",
     "output_type": "stream",
     "text": [
      "NOTICE: Web-based checking to see whether ANNOVAR new version is available ... Done\n",
      "NOTICE: Downloading annotation database http://www.openbioinformatics.org/annovar/download/hg38_refGene.txt.gz ... OK\n",
      "NOTICE: Downloading annotation database http://www.openbioinformatics.org/annovar/download/hg38_refGeneMrna.fa.gz ... OK\n",
      "NOTICE: Downloading annotation database http://www.openbioinformatics.org/annovar/download/hg38_refGeneVersion.txt.gz ... OK\n",
      "NOTICE: Uncompressing downloaded files\n",
      "NOTICE: Finished downloading annotation files for hg38 build version, with files saved at the 'humandb' directory\n",
      "NOTICE: Web-based checking to see whether ANNOVAR new version is available ... Done\n",
      "NOTICE: Downloading annotation database http://www.openbioinformatics.org/annovar/download/hg38_clinvar_20170905.txt.gz ... OK\n",
      "NOTICE: Downloading annotation database http://www.openbioinformatics.org/annovar/download/hg38_clinvar_20170905.txt.idx.gz ... OK\n",
      "NOTICE: Uncompressing downloaded files\n",
      "NOTICE: Finished downloading annotation files for hg38 build version, with files saved at the 'humandb' directory\n"
     ]
    }
   ],
   "source": [
    "%%bash\n",
    "\n",
    "cd /home/jupyter/tools/annovar/\n",
    "\n",
    "perl annotate_variation.pl -buildver hg38 -downdb -webfrom annovar refGene humandb/\n",
    "perl annotate_variation.pl -buildver hg38 -downdb -webfrom annovar clinvar_20170905 humandb/\n",
    "#perl annotate_variation.pl -buildver hg38 -downdb cytoBand humandb/\n",
    "#perl annotate_variation.pl -buildver hg38 -downdb -webfrom annovar ensGene humandb/\n",
    "#perl annotate_variation.pl -buildver hg38 -downdb -webfrom annovar exac03 humandb/ \n",
    "#perl annotate_variation.pl -buildver hg38 -downdb -webfrom annovar avsnp147 humandb/ \n",
    "#perl annotate_variation.pl -buildver hg38 -downdb -webfrom annovar dbnsfp30a humandb/\n",
    "#perl annotate_variation.pl -buildver hg38 -downdb -webfrom annovar gnomad211_genome humandb/\n",
    "#perl annotate_variation.pl -buildver hg38 -downdb -webfrom annovar ljb26_all humandb/\n"
   ]
  },
  {
   "cell_type": "code",
   "execution_count": 11,
   "metadata": {},
   "outputs": [
    {
     "name": "stdout",
     "output_type": "stream",
     "text": [
      "annotate_variation.pl\n",
      "coding_change.pl\n",
      "convert2annovar.pl\n",
      "example\n",
      "humandb\n",
      "retrieve_seq_from_fasta.pl\n",
      "table_annovar.pl\n",
      "variants_reduction.pl\n"
     ]
    }
   ],
   "source": [
    "%%bash\n",
    "ls /home/jupyter/tools/annovar/"
   ]
  },
  {
   "cell_type": "markdown",
   "metadata": {},
   "source": [
    "## Copy data from AMP-PD bucket to workspace"
   ]
  },
  {
   "cell_type": "code",
   "execution_count": 12,
   "metadata": {},
   "outputs": [
    {
     "name": "stdout",
     "output_type": "stream",
     "text": [
      "Making a working directory\n"
     ]
    },
    {
     "name": "stderr",
     "output_type": "stream",
     "text": [
      "Executing: mkdir -p /home/jupyter/SLC25A46_AMPPD/\n"
     ]
    }
   ],
   "source": [
    "# Make a directory called \"/home/jupyter/SLC25A46_AMPPD/\"\n",
    "print(\"Making a working directory\")\n",
    "WORK_DIR = f'/home/jupyter/SLC25A46_AMPPD/'\n",
    "shell_do(f'mkdir -p {WORK_DIR}') # f' means f-string - contains expressions to execute the code"
   ]
  },
  {
   "cell_type": "code",
   "execution_count": null,
   "metadata": {
    "code_folding": []
   },
   "outputs": [],
   "source": [
    "# Check directory where AMP-PD data is\n",
    "shell_do(f'gsutil -u {BILLING_PROJECT_ID} ls {AMP_WGS_RELEASE_PLINK_PATH}/pfiles')"
   ]
  },
  {
   "cell_type": "code",
   "execution_count": null,
   "metadata": {
    "scrolled": true
   },
   "outputs": [],
   "source": [
    "#Copy data to directory defined above\n",
    "shell_do(f'gsutil -u {BILLING_PROJECT_ID} -m cp -r {AMP_WGS_RELEASE_PLINK_PATH}/pfiles/chr5* {WORK_DIR}')"
   ]
  },
  {
   "cell_type": "markdown",
   "metadata": {},
   "source": [
    "### Create a covariate file with AMP-PD data"
   ]
  },
  {
   "cell_type": "code",
   "execution_count": null,
   "metadata": {},
   "outputs": [],
   "source": [
    "## Copy file from \"AMP_CLINICAL_RELEASE_PATH\"\n",
    "shell_do(f'gsutil -u {BILLING_PROJECT_ID} ls {AMP_CLINICAL_RELEASE_PATH}')"
   ]
  },
  {
   "cell_type": "code",
   "execution_count": null,
   "metadata": {
    "scrolled": false
   },
   "outputs": [],
   "source": [
    "shell_do(f'gsutil -u {BILLING_PROJECT_ID} -m cp -r {AMP_RELEASE_PATH}/amp_pd_case_control.csv {WORK_DIR}')\n",
    "shell_do(f'gsutil -u {BILLING_PROJECT_ID} -m cp -r {AMP_CLINICAL_RELEASE_PATH}/Demographics.csv {WORK_DIR}')\n",
    "shell_do(f'gsutil -u {BILLING_PROJECT_ID} -m cp -r {AMP_CLINICAL_RELEASE_PATH}/PD_Medical_History.csv {WORK_DIR}')"
   ]
  },
  {
   "cell_type": "code",
   "execution_count": null,
   "metadata": {
    "scrolled": true
   },
   "outputs": [],
   "source": [
    "shell_do(f'gsutil -u {BILLING_PROJECT_ID} -m cp -r {AMP_CLINICAL_RELEASE_PATH}/Family_History_PD.csv {WORK_DIR}')"
   ]
  },
  {
   "cell_type": "code",
   "execution_count": null,
   "metadata": {
    "scrolled": false
   },
   "outputs": [],
   "source": [
    "shell_do(f'gsutil -u {BILLING_PROJECT_ID} -m cp -r {AMP_CLINICAL_RELEASE_PATH}/MDS_UPDRS_Part_IV.csv {WORK_DIR}')"
   ]
  },
  {
   "cell_type": "code",
   "execution_count": null,
   "metadata": {},
   "outputs": [],
   "source": [
    "shell_do(f'gsutil -u {BILLING_PROJECT_ID} -m cp -r {AMP_CLINICAL_RELEASE_PATH}/DaTSCAN_SBR.csv {WORK_DIR}')"
   ]
  },
  {
   "cell_type": "code",
   "execution_count": null,
   "metadata": {},
   "outputs": [],
   "source": [
    "pd_medical_history_df = pd.read_csv(f'{WORK_DIR}/PD_Medical_History.csv')\n",
    "pd_medical_history_df[pd_medical_history_df['participant_id']=='PD-PDUV122BP2']"
   ]
  },
  {
   "cell_type": "code",
   "execution_count": null,
   "metadata": {},
   "outputs": [],
   "source": [
    "pd_family_history_df = pd.read_csv(f'{WORK_DIR}/Family_History_PD.csv')\n",
    "pd_family_history_df[pd_family_history_df['participant_id']=='PD-PDUV122BP2']"
   ]
  },
  {
   "cell_type": "code",
   "execution_count": 22,
   "metadata": {},
   "outputs": [],
   "source": [
    "pd_medical_history_df = pd_medical_history_df[[\"participant_id\",\"visit_month\",\"diagnosis\",\"age_at_diagnosis\"]]"
   ]
  },
  {
   "cell_type": "code",
   "execution_count": null,
   "metadata": {},
   "outputs": [],
   "source": [
    "pd_case_control_df = pd.read_csv(f'{WORK_DIR}/amp_pd_case_control.csv')\n",
    "pd_case_control_df[pd_case_control_df['participant_id']=='HB-PD_INVUM287GR7']"
   ]
  },
  {
   "cell_type": "code",
   "execution_count": 24,
   "metadata": {},
   "outputs": [],
   "source": [
    "pd_case_control_latest_df = pd_case_control_df[['participant_id', 'diagnosis_latest', 'case_control_other_latest']].copy()"
   ]
  },
  {
   "cell_type": "code",
   "execution_count": 25,
   "metadata": {},
   "outputs": [],
   "source": [
    "pd_case_control_latest_df.columns = ['ID', 'LATEST_DX', 'CASE_CONTROL']"
   ]
  },
  {
   "cell_type": "code",
   "execution_count": 26,
   "metadata": {},
   "outputs": [],
   "source": [
    "case_con_reduced = pd_case_control_latest_df.copy()\n",
    "case_con_reduced.drop_duplicates(subset=['ID'], inplace=True)"
   ]
  },
  {
   "cell_type": "code",
   "execution_count": 27,
   "metadata": {},
   "outputs": [],
   "source": [
    "conditions = [\n",
    "    (case_con_reduced['CASE_CONTROL'] == \"Case\"),\n",
    "    (case_con_reduced['CASE_CONTROL'] == \"Control\")]"
   ]
  },
  {
   "cell_type": "code",
   "execution_count": 28,
   "metadata": {},
   "outputs": [],
   "source": [
    "choices = [2,1]\n",
    "case_con_reduced['PHENO'] = np.select(conditions, choices, default=-9).astype(np.int64)"
   ]
  },
  {
   "cell_type": "code",
   "execution_count": 29,
   "metadata": {},
   "outputs": [],
   "source": [
    "case_con_reduced.reset_index(inplace=True)\n",
    "case_con_reduced.drop(columns=[\"index\"], inplace=True)"
   ]
  },
  {
   "cell_type": "code",
   "execution_count": null,
   "metadata": {},
   "outputs": [],
   "source": [
    "case_con_reduced.drop(columns=['CASE_CONTROL'], inplace=True)\n",
    "case_con_reduced.head()"
   ]
  },
  {
   "cell_type": "code",
   "execution_count": null,
   "metadata": {},
   "outputs": [],
   "source": [
    "demographics_df = pd.read_csv(f'{WORK_DIR}/Demographics.csv')\n",
    "demographics_df[demographics_df['participant_id']=='PD-PDUV122BP2']"
   ]
  },
  {
   "cell_type": "code",
   "execution_count": 32,
   "metadata": {},
   "outputs": [],
   "source": [
    "demographics_df.rename(columns = {'participant_id':'ID'}, inplace = True)\n",
    "demographics_df.rename(columns = {'age_at_baseline':'BASELINE_AGE'}, inplace = True)\n",
    "demographics_df.rename(columns = {'race':'RACE'}, inplace = True)"
   ]
  },
  {
   "cell_type": "code",
   "execution_count": 33,
   "metadata": {},
   "outputs": [],
   "source": [
    "demographics_baseline_df = demographics_df \\\n",
    ".sort_values('visit_month', ascending=True) \\\n",
    ".drop_duplicates('ID').sort_index()"
   ]
  },
  {
   "cell_type": "code",
   "execution_count": null,
   "metadata": {},
   "outputs": [],
   "source": [
    "demographics_df_casecon = demographics_df.merge(case_con_reduced, on='ID', how='outer')\n",
    "demographics_df_casecon.head()"
   ]
  },
  {
   "cell_type": "code",
   "execution_count": 35,
   "metadata": {},
   "outputs": [],
   "source": [
    "conditions = [\n",
    "     (demographics_df_casecon['sex'] == \"Male\"),\n",
    "     (demographics_df_casecon['sex'] == \"Female\")]"
   ]
  },
  {
   "cell_type": "code",
   "execution_count": 36,
   "metadata": {},
   "outputs": [],
   "source": [
    "choices = [1,2]\n",
    "demographics_df_casecon['SEX'] = np.select(conditions, choices, default=None).astype(np.int64)"
   ]
  },
  {
   "cell_type": "code",
   "execution_count": null,
   "metadata": {},
   "outputs": [],
   "source": [
    "demographics_df_casecon.drop(columns=['sex'], inplace=True)\n",
    "demographics_df_casecon.head()"
   ]
  },
  {
   "cell_type": "code",
   "execution_count": 38,
   "metadata": {},
   "outputs": [],
   "source": [
    "demographics_df_casecon_toKeep_sex = demographics_df_casecon[['ID', 'ID', 'SEX'\n",
    "                                                          ]].copy()\n",
    "demographics_df_casecon_toKeep_sex.columns = ['FID','IID', 'SEX']\n",
    "demographics_df_casecon_toKeep_sex.head()\n",
    "demographics_df_casecon_toKeep_sex.to_csv(f'{WORK_DIR}/SEX.txt',index=False)"
   ]
  },
  {
   "cell_type": "code",
   "execution_count": 39,
   "metadata": {},
   "outputs": [],
   "source": [
    "demographics_df_casecon_toKeep_pheno = demographics_df_casecon[['ID', 'ID', 'PHENO'\n",
    "                                                          ]].copy()\n",
    "demographics_df_casecon_toKeep_pheno.columns = ['FID','IID', 'PHENO']\n",
    "demographics_df_casecon_toKeep_pheno.head()\n",
    "demographics_df_casecon_toKeep_pheno.to_csv(f'{WORK_DIR}/PHENO.txt',index=False)"
   ]
  },
  {
   "cell_type": "code",
   "execution_count": null,
   "metadata": {},
   "outputs": [],
   "source": [
    "moca_df = pd.read_csv(f'{WORK_DIR}/MOCA.csv')\n",
    "moca_df[moca_df['participant_id']=='PD-PDUV122BP2']"
   ]
  },
  {
   "cell_type": "code",
   "execution_count": null,
   "metadata": {},
   "outputs": [],
   "source": [
    "moca_df = pd.read_csv(f'{WORK_DIR}/MDS_UPDRS_Part_IV.csv')\n",
    "moca_df[moca_df['participant_id']=='PD-PDUV122BP2']"
   ]
  },
  {
   "cell_type": "code",
   "execution_count": null,
   "metadata": {
    "scrolled": true
   },
   "outputs": [],
   "source": [
    "dat_df = pd.read_csv(f'{WORK_DIR}/DaTSCAN_visual_interpretation.csv')\n",
    "dat_df[dat_df['participant_id']=='PD-PDUV122BP2']"
   ]
  },
  {
   "cell_type": "code",
   "execution_count": null,
   "metadata": {},
   "outputs": [],
   "source": [
    "datscan_df = pd.read_csv(f'{WORK_DIR}/DaTSCAN_SBR.csv')\n",
    "datscan_df[datscan_df['participant_id']=='PD-PDUV122BP2']"
   ]
  },
  {
   "cell_type": "markdown",
   "metadata": {},
   "source": [
    "## Extract SLC25A46"
   ]
  },
  {
   "cell_type": "code",
   "execution_count": 40,
   "metadata": {
    "scrolled": true
   },
   "outputs": [
    {
     "name": "stdout",
     "output_type": "stream",
     "text": [
      "PLINK v2.00a6LM 64-bit Intel (4 May 2024)      www.cog-genomics.org/plink/2.0/\n",
      "(C) 2005-2024 Shaun Purcell, Christopher Chang   GNU General Public License v3\n",
      "Logging to temp_AMPPD.log.\n",
      "Options in effect:\n",
      "  --chr 5\n",
      "  --from-bp 110738136\n",
      "  --make-bed\n",
      "  --max-alleles 2\n",
      "  --out temp_AMPPD\n",
      "  --pfile chr5\n",
      "  --to-bp 110765161\n",
      "\n",
      "Start time: Thu May 23 02:14:29 2024\n",
      "3676 MiB RAM detected, ~2428 available; reserving 1838 MiB for main workspace.\n",
      "Using 1 compute thread.\n",
      "10418 samples (0 females, 0 males, 10418 ambiguous; 10418 founders) loaded from\n",
      "chr5.psam.\n",
      "9161370 out of 9880933 variants loaded from chr5.pvar.\n",
      "Note: No phenotype data present.\n",
      "1257 variants remaining after main filters.\n",
      "Writing temp_AMPPD.fam ... done.\n",
      "Writing temp_AMPPD.bim ... done.\n",
      "Writing temp_AMPPD.bed ... done.\n",
      "End time: Thu May 23 02:16:56 2024\n"
     ]
    }
   ],
   "source": [
    "%%bash\n",
    "\n",
    "WORK_DIR='/home/jupyter/SLC25A46_AMPPD/'\n",
    "cd $WORK_DIR\n",
    "\n",
    "## SLC25A46 : gene positions on hg38 (from https://useast.ensembl.org/index.html)\n",
    "/home/jupyter/tools/plink2 \\\n",
    "--pfile chr5 \\\n",
    "--chr 5 \\\n",
    "--from-bp 110738136 \\\n",
    "--to-bp 110765161 \\\n",
    "--make-bed \\\n",
    "--max-alleles 2 \\\n",
    "--out temp_AMPPD"
   ]
  },
  {
   "cell_type": "code",
   "execution_count": 41,
   "metadata": {},
   "outputs": [
    {
     "name": "stdout",
     "output_type": "stream",
     "text": [
      "5\t.\t0\t110738161\tC\tG\n",
      "5\trs78443964\t0\t110738170\tC\tT\n",
      "5\t.\t0\t110738172\tA\tG\n",
      "5\t.\t0\t110738183\tC\tT\n",
      "5\t.\t0\t110738210\tC\tG\n",
      "5\trs147877745\t0\t110738249\tC\tT\n",
      "5\t.\t0\t110738270\tG\tA\n",
      "5\t.\t0\t110738345\tC\tG\n",
      "5\trs114440759\t0\t110738407\tT\tC\n",
      "5\t.\t0\t110738408\tT\tG\n"
     ]
    }
   ],
   "source": [
    "%%bash\n",
    "WORK_DIR='/home/jupyter/SLC25A46_AMPPD/'\n",
    "cd $WORK_DIR\n",
    "\n",
    "head temp_AMPPD.bim"
   ]
  },
  {
   "cell_type": "code",
   "execution_count": 42,
   "metadata": {},
   "outputs": [],
   "source": [
    "bim = pd.read_csv(\"/home/jupyter/SLC25A46_AMPPD/temp_AMPPD.bim\",sep=\"\\t\",names=['chr','rsID','pos','bp','A1','A2'])\n",
    "bim['chr'] = bim['chr'].astype(str)\n",
    "bim['bp'] = bim['bp'].astype(str)"
   ]
  },
  {
   "cell_type": "code",
   "execution_count": 43,
   "metadata": {},
   "outputs": [],
   "source": [
    "bim['rsID'] = bim.chr.str.cat(bim.bp, sep=':')"
   ]
  },
  {
   "cell_type": "code",
   "execution_count": 44,
   "metadata": {
    "scrolled": false
   },
   "outputs": [
    {
     "data": {
      "text/html": [
       "<div>\n",
       "<style scoped>\n",
       "    .dataframe tbody tr th:only-of-type {\n",
       "        vertical-align: middle;\n",
       "    }\n",
       "\n",
       "    .dataframe tbody tr th {\n",
       "        vertical-align: top;\n",
       "    }\n",
       "\n",
       "    .dataframe thead th {\n",
       "        text-align: right;\n",
       "    }\n",
       "</style>\n",
       "<table border=\"1\" class=\"dataframe\">\n",
       "  <thead>\n",
       "    <tr style=\"text-align: right;\">\n",
       "      <th></th>\n",
       "      <th>chr</th>\n",
       "      <th>rsID</th>\n",
       "      <th>pos</th>\n",
       "      <th>bp</th>\n",
       "      <th>A1</th>\n",
       "      <th>A2</th>\n",
       "    </tr>\n",
       "  </thead>\n",
       "  <tbody>\n",
       "    <tr>\n",
       "      <th>0</th>\n",
       "      <td>5</td>\n",
       "      <td>5:110738161</td>\n",
       "      <td>0</td>\n",
       "      <td>110738161</td>\n",
       "      <td>C</td>\n",
       "      <td>G</td>\n",
       "    </tr>\n",
       "    <tr>\n",
       "      <th>1</th>\n",
       "      <td>5</td>\n",
       "      <td>5:110738170</td>\n",
       "      <td>0</td>\n",
       "      <td>110738170</td>\n",
       "      <td>C</td>\n",
       "      <td>T</td>\n",
       "    </tr>\n",
       "    <tr>\n",
       "      <th>2</th>\n",
       "      <td>5</td>\n",
       "      <td>5:110738172</td>\n",
       "      <td>0</td>\n",
       "      <td>110738172</td>\n",
       "      <td>A</td>\n",
       "      <td>G</td>\n",
       "    </tr>\n",
       "    <tr>\n",
       "      <th>3</th>\n",
       "      <td>5</td>\n",
       "      <td>5:110738183</td>\n",
       "      <td>0</td>\n",
       "      <td>110738183</td>\n",
       "      <td>C</td>\n",
       "      <td>T</td>\n",
       "    </tr>\n",
       "    <tr>\n",
       "      <th>4</th>\n",
       "      <td>5</td>\n",
       "      <td>5:110738210</td>\n",
       "      <td>0</td>\n",
       "      <td>110738210</td>\n",
       "      <td>C</td>\n",
       "      <td>G</td>\n",
       "    </tr>\n",
       "  </tbody>\n",
       "</table>\n",
       "</div>"
      ],
      "text/plain": [
       "  chr         rsID  pos         bp A1 A2\n",
       "0   5  5:110738161    0  110738161  C  G\n",
       "1   5  5:110738170    0  110738170  C  T\n",
       "2   5  5:110738172    0  110738172  A  G\n",
       "3   5  5:110738183    0  110738183  C  T\n",
       "4   5  5:110738210    0  110738210  C  G"
      ]
     },
     "execution_count": 44,
     "metadata": {},
     "output_type": "execute_result"
    }
   ],
   "source": [
    "bim.head()"
   ]
  },
  {
   "cell_type": "code",
   "execution_count": 45,
   "metadata": {},
   "outputs": [],
   "source": [
    "bim.to_csv(f'{WORK_DIR}/temp_AMPPD.bim',sep=\"\\t\",index=False,header=None)"
   ]
  },
  {
   "cell_type": "code",
   "execution_count": null,
   "metadata": {},
   "outputs": [],
   "source": [
    "%%bash\n",
    "WORK_DIR='/home/jupyter/SLC25A46_AMPPD/'\n",
    "cd $WORK_DIR\n",
    "\n",
    "head temp_AMPPD.fam\n",
    "#Store the first column of IDs in a new file\n",
    "awk '{ print $1 }' temp_AMPPD.fam > IDs.txt"
   ]
  },
  {
   "cell_type": "code",
   "execution_count": 47,
   "metadata": {},
   "outputs": [],
   "source": [
    "sex = pd.read_csv(f'{WORK_DIR}/SEX.txt')\n",
    "pheno = pd.read_csv(f'{WORK_DIR}/PHENO.txt')\n",
    "ids = pd.read_csv(f'{WORK_DIR}/IDs.txt',names=['FID'])"
   ]
  },
  {
   "cell_type": "code",
   "execution_count": 48,
   "metadata": {},
   "outputs": [],
   "source": [
    "sex_new = pd.merge(sex,ids,on=\"FID\")\n",
    "sex_new.to_csv(f'{WORK_DIR}/SEX_new.txt',index=False, sep=\"\\t\")"
   ]
  },
  {
   "cell_type": "code",
   "execution_count": 49,
   "metadata": {},
   "outputs": [],
   "source": [
    "pheno_new = pd.merge(pheno,ids,on=\"FID\")\n",
    "pheno_new.to_csv(f'{WORK_DIR}/PHENO_new.txt',index=False, sep=\"\\t\")"
   ]
  },
  {
   "cell_type": "code",
   "execution_count": 50,
   "metadata": {
    "scrolled": true
   },
   "outputs": [
    {
     "name": "stdout",
     "output_type": "stream",
     "text": [
      "PLINK v1.90b6.9 64-bit (4 Mar 2019)            www.cog-genomics.org/plink/1.9/\n",
      "(C) 2005-2019 Shaun Purcell, Christopher Chang   GNU General Public License v3\n",
      "Logging to pheno_SLC25A46.log.\n",
      "Options in effect:\n",
      "  --bfile temp_AMPPD\n",
      "  --make-bed\n",
      "  --out pheno_SLC25A46\n",
      "  --pheno PHENO_new.txt\n",
      "  --update-sex SEX_new.txt\n",
      "\n",
      "3676 MB RAM detected; reserving 1838 MB for main workspace.\n",
      "1257 variants loaded from .bim file.\n",
      "10418 people (0 males, 0 females, 10418 ambiguous) loaded from .fam.\n",
      "Ambiguous sex IDs written to pheno_SLC25A46.nosex .\n",
      "7512 phenotype values present after --pheno.\n",
      "--update-sex: 10418 people updated, 1 ID not present.\n",
      "Using 1 thread.\n",
      "Before main variant filters, 10418 founders and 0 nonfounders present.\n",
      "Calculating allele frequencies... 10111213141516171819202122232425262728293031323334353637383940414243444546474849505152535455565758596061626364656667686970717273747576777879808182838485868788899091929394959697989 done.\n",
      "Total genotyping rate is 0.999982.\n",
      "1257 variants and 10418 people pass filters and QC.\n",
      "Among remaining phenotypes, 3359 are cases and 4153 are controls.  (2906\n",
      "phenotypes are missing.)\n",
      "--make-bed to pheno_SLC25A46.bed + pheno_SLC25A46.bim + pheno_SLC25A46.fam ...\n",
      "101112131415161718192021222324252627282930313233343536373839404142434445464748495051525354555657585960616263646566676869707172737475767778798081828384858687888990919293949596979899done.\n"
     ]
    }
   ],
   "source": [
    "%%bash\n",
    "\n",
    "WORK_DIR='/home/jupyter/SLC25A46_AMPPD/'\n",
    "cd $WORK_DIR\n",
    "\n",
    "# Update sex variable\n",
    "/home/jupyter/tools/plink \\\n",
    "--bfile temp_AMPPD \\\n",
    "--update-sex SEX_new.txt  \\\n",
    "--pheno PHENO_new.txt \\\n",
    "--make-bed \\\n",
    "--out pheno_SLC25A46"
   ]
  },
  {
   "cell_type": "markdown",
   "metadata": {},
   "source": [
    "### Visualize plink files bim, fam and bed"
   ]
  },
  {
   "cell_type": "code",
   "execution_count": 51,
   "metadata": {},
   "outputs": [
    {
     "name": "stdout",
     "output_type": "stream",
     "text": [
      "5\t5:110738161\t0\t110738161\tC\tG\n",
      "5\t5:110738170\t0\t110738170\tC\tT\n",
      "5\t5:110738172\t0\t110738172\tA\tG\n",
      "5\t5:110738183\t0\t110738183\tC\tT\n",
      "5\t5:110738210\t0\t110738210\tC\tG\n",
      "5\t5:110738249\t0\t110738249\tC\tT\n",
      "5\t5:110738270\t0\t110738270\tG\tA\n",
      "5\t5:110738345\t0\t110738345\tC\tG\n",
      "5\t5:110738407\t0\t110738407\tT\tC\n",
      "5\t5:110738408\t0\t110738408\tT\tG\n"
     ]
    }
   ],
   "source": [
    "%%bash\n",
    "\n",
    "# Visualize bim file\n",
    "WORK_DIR='/home/jupyter/SLC25A46_AMPPD/'\n",
    "cd $WORK_DIR\n",
    "\n",
    "head pheno_SLC25A46.bim"
   ]
  },
  {
   "cell_type": "code",
   "execution_count": null,
   "metadata": {},
   "outputs": [],
   "source": [
    "%%bash\n",
    "\n",
    "# Visualize fam file\n",
    "WORK_DIR='/home/jupyter/SLC25A46_AMPPD/'\n",
    "cd $WORK_DIR\n",
    "\n",
    "head pheno_SLC25A46.fam"
   ]
  },
  {
   "cell_type": "code",
   "execution_count": null,
   "metadata": {},
   "outputs": [],
   "source": [
    "%%bash\n",
    "\n",
    "# Visualize bed file\n",
    "WORK_DIR='/home/jupyter/SLC25A46_AMPPD/'\n",
    "cd $WORK_DIR\n",
    "\n",
    "head pheno_SLC25A46.bed"
   ]
  },
  {
   "cell_type": "code",
   "execution_count": 54,
   "metadata": {},
   "outputs": [
    {
     "name": "stdout",
     "output_type": "stream",
     "text": [
      "PLINK v1.90b6.9 64-bit (4 Mar 2019)            www.cog-genomics.org/plink/1.9/\n",
      "(C) 2005-2019 Shaun Purcell, Christopher Chang   GNU General Public License v3\n",
      "Logging to pheno_SLC25A46.log.\n",
      "Options in effect:\n",
      "  --allow-no-sex\n",
      "  --bfile pheno_SLC25A46\n",
      "  --out pheno_SLC25A46\n",
      "  --recode vcf-fid\n",
      "\n",
      "3676 MB RAM detected; reserving 1838 MB for main workspace.\n",
      "1257 variants loaded from .bim file.\n",
      "10418 people (5782 males, 4636 females) loaded from .fam.\n",
      "7512 phenotype values loaded from .fam.\n",
      "Using 1 thread.\n",
      "Before main variant filters, 10418 founders and 0 nonfounders present.\n",
      "Calculating allele frequencies... 10111213141516171819202122232425262728293031323334353637383940414243444546474849505152535455565758596061626364656667686970717273747576777879808182838485868788899091929394959697989 done.\n",
      "Total genotyping rate is 0.999982.\n",
      "1257 variants and 10418 people pass filters and QC.\n",
      "Among remaining phenotypes, 3359 are cases and 4153 are controls.  (2906\n",
      "phenotypes are missing.)\n",
      "--recode vcf-fid to pheno_SLC25A46.vcf ... 101112131415161718192021222324252627282930313233343536373839404142434445464748495051525354555657585960616263646566676869707172737475767778798081828384858687888990919293949596979899done.\n"
     ]
    }
   ],
   "source": [
    "%%bash\n",
    "\n",
    "WORK_DIR='/home/jupyter/SLC25A46_AMPPD/'\n",
    "cd $WORK_DIR\n",
    "\n",
    "# Turn binary files into VCF\n",
    "/home/jupyter/tools/plink \\\n",
    "--bfile pheno_SLC25A46 \\\n",
    "--recode vcf-fid \\\n",
    "--allow-no-sex \\\n",
    "--out pheno_SLC25A46"
   ]
  },
  {
   "cell_type": "markdown",
   "metadata": {},
   "source": [
    "## Annotate SLC25A46 variants"
   ]
  },
  {
   "cell_type": "code",
   "execution_count": 55,
   "metadata": {},
   "outputs": [
    {
     "name": "stderr",
     "output_type": "stream",
     "text": [
      "[bgzip] can't create pheno_SLC25A46.vcf.gz: File exists\n"
     ]
    }
   ],
   "source": [
    "%%bash\n",
    "## \n",
    "WORK_DIR='/home/jupyter/SLC25A46_AMPPD/'\n",
    "cd $WORK_DIR\n",
    "export PATH=$PATH:/home/jupyter/tools/rvtests/third/tabix-0.2.6/\n",
    "\n",
    "### Bgzip and Tabix\n",
    "bgzip pheno_SLC25A46.vcf\n",
    "\n",
    "tabix -f -p vcf pheno_SLC25A46.vcf.gz"
   ]
  },
  {
   "cell_type": "code",
   "execution_count": 56,
   "metadata": {
    "code_folding": []
   },
   "outputs": [
    {
     "name": "stderr",
     "output_type": "stream",
     "text": [
      "\n",
      "NOTICE: Running with system command <convert2annovar.pl  -includeinfo -allsample -withfreq -format vcf4 pheno_SLC25A46.vcf.gz > pheno_SLC25A46.annovar.avinput>\n",
      "NOTICE: Finished reading 1264 lines from VCF file\n",
      "NOTICE: A total of 1257 locus in VCF file passed QC threshold, representing 1130 SNPs (764 transitions and 366 transversions) and 127 indels/substitutions\n",
      "NOTICE: Finished writing allele frequencies based on 11772340 SNP genotypes (7959352 transitions and 3812988 transversions) and 1323086 indels/substitutions for 10418 samples\n",
      "\n",
      "NOTICE: Running with system command </home/jupyter/tools/annovar/table_annovar.pl pheno_SLC25A46.annovar.avinput /home/jupyter/tools/annovar/humandb/ -buildver hg38 -outfile pheno_SLC25A46.annovar -remove -protocol refGene,clinvar_20140902 -operation g,f --nopolish -nastring . -otherinfo>\n",
      "-----------------------------------------------------------------\n",
      "NOTICE: Processing operation=g protocol=refGene\n",
      "\n",
      "NOTICE: Running with system command <annotate_variation.pl -geneanno -buildver hg38 -dbtype refGene -outfile pheno_SLC25A46.annovar.refGene -exonsort -nofirstcodondel pheno_SLC25A46.annovar.avinput /home/jupyter/tools/annovar/humandb/>\n",
      "NOTICE: Output files are written to pheno_SLC25A46.annovar.refGene.variant_function, pheno_SLC25A46.annovar.refGene.exonic_variant_function\n",
      "NOTICE: Reading gene annotation from /home/jupyter/tools/annovar/humandb/hg38_refGene.txt ... Done with 88819 transcripts (including 21511 without coding sequence annotation) for 28307 unique genes\n",
      "NOTICE: Processing next batch with 1257 unique variants in 1257 input lines\n",
      "NOTICE: Reading FASTA sequences from /home/jupyter/tools/annovar/humandb/hg38_refGeneMrna.fa ... Done with 3 sequences\n",
      "WARNING: A total of 606 sequences will be ignored due to lack of correct ORF annotation\n",
      "-----------------------------------------------------------------\n",
      "NOTICE: Processing operation=f protocol=clinvar_20140902\n",
      "\n",
      "NOTICE: Running system command <annotate_variation.pl -filter -dbtype clinvar_20140902 -buildver hg38 -outfile pheno_SLC25A46.annovar pheno_SLC25A46.annovar.avinput /home/jupyter/tools/annovar/humandb/>\n",
      "NOTICE: the --dbtype clinvar_20140902 is assumed to be in generic ANNOVAR database format\n",
      "NOTICE: Output file with variants matching filtering criteria is written to pheno_SLC25A46.annovar.hg38_clinvar_20140902_dropped, and output file with other variants is written to pheno_SLC25A46.annovar.hg38_clinvar_20140902_filtered\n",
      "NOTICE: Processing next batch with 1257 unique variants in 1257 input lines\n",
      "NOTICE: Database index loaded. Total number of bins is 44781 and the number of bins to be scanned is 0\n",
      "NOTICE: Scanning filter database /home/jupyter/tools/annovar/humandb/hg38_clinvar_20140902.txt...Done\n",
      "-----------------------------------------------------------------\n",
      "NOTICE: Multianno output file is written to pheno_SLC25A46.annovar.hg38_multianno.txt\n",
      "NOTICE: Reading from pheno_SLC25A46.annovar.hg38_multianno.txt\n",
      "-----------------------------------------------------------------\n",
      "NOTICE: VCF output is written to pheno_SLC25A46.annovar.hg38_multianno.vcf\n"
     ]
    }
   ],
   "source": [
    "%%bash\n",
    "\n",
    "WORK_DIR='/home/jupyter/SLC25A46_AMPPD/'\n",
    "cd $WORK_DIR\n",
    "\n",
    "### Annotate variants using ANNOVAR: https://annovar.openbioinformatics.org/en/latest/ \n",
    "perl /home/jupyter/tools/annovar/table_annovar.pl pheno_SLC25A46.vcf.gz /home/jupyter/tools/annovar/humandb/ -buildver hg38 \\\n",
    "-out pheno_SLC25A46.annovar \\\n",
    "-remove -protocol refGene,clinvar_20140902 \\\n",
    "-operation g,f \\\n",
    "--nopolish \\\n",
    "-nastring . \\\n",
    "-vcfinput"
   ]
  },
  {
   "cell_type": "markdown",
   "metadata": {},
   "source": [
    "## Extract coding and non-syn variants"
   ]
  },
  {
   "cell_type": "code",
   "execution_count": 62,
   "metadata": {
    "scrolled": true
   },
   "outputs": [
    {
     "data": {
      "text/plain": [
       "<bound method NDFrame.head of       Chr      Start        End   Ref Alt Func.refGene Gene.refGene  \\\n",
       "0       5  110738161  110738161     G   C         UTR5     SLC25A46   \n",
       "1       5  110738170  110738170     T   C         UTR5     SLC25A46   \n",
       "2       5  110738172  110738172     G   A         UTR5     SLC25A46   \n",
       "3       5  110738183  110738183     T   C         UTR5     SLC25A46   \n",
       "4       5  110738210  110738210     G   C         UTR5     SLC25A46   \n",
       "...   ...        ...        ...   ...  ..          ...          ...   \n",
       "1252    5  110765017  110765017     T   C         UTR3     SLC25A46   \n",
       "1253    5  110765038  110765038     G   A         UTR3     SLC25A46   \n",
       "1254    5  110765089  110765092  CTTA   -         UTR3     SLC25A46   \n",
       "1255    5  110765140  110765140     A   G         UTR3     SLC25A46   \n",
       "1256    5  110765150  110765150     G   A         UTR3     SLC25A46   \n",
       "\n",
       "                                     GeneDetail.refGene ExonicFunc.refGene  \\\n",
       "0                                 NM_001303250:c.-77G>C                  .   \n",
       "1                                 NM_001303250:c.-68T>C                  .   \n",
       "2                                 NM_001303250:c.-66G>A                  .   \n",
       "3                                 NM_001303250:c.-55T>C                  .   \n",
       "4                                 NM_001303250:c.-28G>C                  .   \n",
       "...                                                 ...                ...   \n",
       "1252  NM_001303250:c.*3235T>C;NM_138773:c.*3235T>C;N...                  .   \n",
       "1253  NM_001303250:c.*3256G>A;NM_138773:c.*3256G>A;N...                  .   \n",
       "1254  NM_001303250:c.*3307_*3310delCTTA;NM_138773:c....                  .   \n",
       "1255  NM_001303250:c.*3358A>G;NM_138773:c.*3358A>G;N...                  .   \n",
       "1256  NM_001303250:c.*3368G>A;NM_138773:c.*3368G>A;N...                  .   \n",
       "\n",
       "     AAChange.refGene  ... Otherinfo10421  Otherinfo10422 Otherinfo10423  \\\n",
       "0                   .  ...            0/0             0/0            0/0   \n",
       "1                   .  ...            0/0             0/0            0/0   \n",
       "2                   .  ...            0/0             0/0            0/0   \n",
       "3                   .  ...            0/0             0/0            0/0   \n",
       "4                   .  ...            0/0             0/0            0/0   \n",
       "...               ...  ...            ...             ...            ...   \n",
       "1252                .  ...            0/0             0/0            0/0   \n",
       "1253                .  ...            0/0             0/0            0/0   \n",
       "1254                .  ...            0/0             0/0            0/0   \n",
       "1255                .  ...            0/0             0/0            0/0   \n",
       "1256                .  ...            0/0             0/0            0/0   \n",
       "\n",
       "     Otherinfo10424  Otherinfo10425  Otherinfo10426 Otherinfo10427  \\\n",
       "0               0/0             0/0             0/0            0/0   \n",
       "1               0/0             0/0             0/0            0/0   \n",
       "2               0/0             0/0             0/0            0/0   \n",
       "3               0/0             0/0             0/0            0/0   \n",
       "4               0/0             0/0             0/0            0/0   \n",
       "...             ...             ...             ...            ...   \n",
       "1252            0/0             0/0             0/0            0/0   \n",
       "1253            0/0             0/0             0/0            0/0   \n",
       "1254            0/0             0/0             0/0            0/0   \n",
       "1255            0/0             0/0             0/0            0/0   \n",
       "1256            0/0             0/0             0/0            0/0   \n",
       "\n",
       "     Otherinfo10428 Otherinfo10429 Otherinfo10430  \n",
       "0               0/0            0/0            0/0  \n",
       "1               0/0            0/0            0/0  \n",
       "2               0/0            0/0            0/0  \n",
       "3               0/0            0/0            0/0  \n",
       "4               0/0            0/0            0/0  \n",
       "...             ...            ...            ...  \n",
       "1252            0/0            0/0            0/0  \n",
       "1253            0/0            0/0            0/0  \n",
       "1254            0/0            0/0            0/0  \n",
       "1255            0/0            0/0            0/0  \n",
       "1256            0/0            0/0            0/0  \n",
       "\n",
       "[1257 rows x 10441 columns]>"
      ]
     },
     "execution_count": 62,
     "metadata": {},
     "output_type": "execute_result"
    }
   ],
   "source": [
    "# Visualize multianno file\n",
    "SLC25A46 = pd.read_csv(f'{WORK_DIR}/pheno_SLC25A46.annovar.hg38_multianno.txt', sep = '\\t')\n",
    "SLC25A46.head"
   ]
  },
  {
   "cell_type": "code",
   "execution_count": 63,
   "metadata": {},
   "outputs": [],
   "source": [
    "SLC25A46 = SLC25A46[SLC25A46['Gene.refGene']=='SLC25A46']"
   ]
  },
  {
   "cell_type": "code",
   "execution_count": 64,
   "metadata": {},
   "outputs": [],
   "source": [
    "SLC25A46.to_csv(f'{WORKSPACE_BUCKET}/pheno_SLC25A46_final_AMPPD.annovar.hg38_multianno.txt')"
   ]
  },
  {
   "cell_type": "code",
   "execution_count": 66,
   "metadata": {},
   "outputs": [
    {
     "data": {
      "text/plain": [
       "Chr               1257\n",
       "Start             1257\n",
       "End               1257\n",
       "Ref               1257\n",
       "Alt               1257\n",
       "                  ... \n",
       "Otherinfo10426    1257\n",
       "Otherinfo10427    1257\n",
       "Otherinfo10428    1257\n",
       "Otherinfo10429    1257\n",
       "Otherinfo10430    1257\n",
       "Length: 10441, dtype: int64"
      ]
     },
     "execution_count": 66,
     "metadata": {},
     "output_type": "execute_result"
    }
   ],
   "source": [
    "SLC25A46.count()"
   ]
  },
  {
   "cell_type": "code",
   "execution_count": 67,
   "metadata": {},
   "outputs": [
    {
     "data": {
      "text/plain": [
       "Func.refGene\n",
       "intronic    1030\n",
       "UTR3         151\n",
       "exonic        51\n",
       "UTR5          23\n",
       "splicing       2\n",
       "Name: count, dtype: int64"
      ]
     },
     "execution_count": 67,
     "metadata": {},
     "output_type": "execute_result"
    }
   ],
   "source": [
    "SLC25A46['Func.refGene'].value_counts()"
   ]
  },
  {
   "cell_type": "markdown",
   "metadata": {},
   "source": [
    "## Filter exonic variants!"
   ]
  },
  {
   "cell_type": "code",
   "execution_count": 68,
   "metadata": {},
   "outputs": [
    {
     "data": {
      "text/html": [
       "<div>\n",
       "<style scoped>\n",
       "    .dataframe tbody tr th:only-of-type {\n",
       "        vertical-align: middle;\n",
       "    }\n",
       "\n",
       "    .dataframe tbody tr th {\n",
       "        vertical-align: top;\n",
       "    }\n",
       "\n",
       "    .dataframe thead th {\n",
       "        text-align: right;\n",
       "    }\n",
       "</style>\n",
       "<table border=\"1\" class=\"dataframe\">\n",
       "  <thead>\n",
       "    <tr style=\"text-align: right;\">\n",
       "      <th></th>\n",
       "      <th>Chr</th>\n",
       "      <th>Start</th>\n",
       "      <th>End</th>\n",
       "      <th>Ref</th>\n",
       "      <th>Alt</th>\n",
       "      <th>Func.refGene</th>\n",
       "      <th>Gene.refGene</th>\n",
       "      <th>GeneDetail.refGene</th>\n",
       "      <th>ExonicFunc.refGene</th>\n",
       "      <th>AAChange.refGene</th>\n",
       "      <th>...</th>\n",
       "      <th>Otherinfo10421</th>\n",
       "      <th>Otherinfo10422</th>\n",
       "      <th>Otherinfo10423</th>\n",
       "      <th>Otherinfo10424</th>\n",
       "      <th>Otherinfo10425</th>\n",
       "      <th>Otherinfo10426</th>\n",
       "      <th>Otherinfo10427</th>\n",
       "      <th>Otherinfo10428</th>\n",
       "      <th>Otherinfo10429</th>\n",
       "      <th>Otherinfo10430</th>\n",
       "    </tr>\n",
       "  </thead>\n",
       "  <tbody>\n",
       "    <tr>\n",
       "      <th>58</th>\n",
       "      <td>5</td>\n",
       "      <td>110739128</td>\n",
       "      <td>110739130</td>\n",
       "      <td>GCG</td>\n",
       "      <td>-</td>\n",
       "      <td>exonic</td>\n",
       "      <td>SLC25A46</td>\n",
       "      <td>.</td>\n",
       "      <td>nonframeshift deletion</td>\n",
       "      <td>SLC25A46:NM_001303249:exon1:c.9_11del:p.3_4del...</td>\n",
       "      <td>...</td>\n",
       "      <td>0/0</td>\n",
       "      <td>0/0</td>\n",
       "      <td>0/0</td>\n",
       "      <td>0/0</td>\n",
       "      <td>0/0</td>\n",
       "      <td>0/0</td>\n",
       "      <td>0/0</td>\n",
       "      <td>0/0</td>\n",
       "      <td>0/0</td>\n",
       "      <td>0/0</td>\n",
       "    </tr>\n",
       "    <tr>\n",
       "      <th>59</th>\n",
       "      <td>5</td>\n",
       "      <td>110739131</td>\n",
       "      <td>110739131</td>\n",
       "      <td>G</td>\n",
       "      <td>A</td>\n",
       "      <td>exonic</td>\n",
       "      <td>SLC25A46</td>\n",
       "      <td>.</td>\n",
       "      <td>synonymous SNV</td>\n",
       "      <td>SLC25A46:NM_001303249:exon1:c.G12A:p.R4R,SLC25...</td>\n",
       "      <td>...</td>\n",
       "      <td>0/0</td>\n",
       "      <td>0/0</td>\n",
       "      <td>0/0</td>\n",
       "      <td>0/0</td>\n",
       "      <td>0/0</td>\n",
       "      <td>0/0</td>\n",
       "      <td>0/0</td>\n",
       "      <td>0/0</td>\n",
       "      <td>0/0</td>\n",
       "      <td>0/0</td>\n",
       "    </tr>\n",
       "    <tr>\n",
       "      <th>60</th>\n",
       "      <td>5</td>\n",
       "      <td>110739163</td>\n",
       "      <td>110739163</td>\n",
       "      <td>G</td>\n",
       "      <td>A</td>\n",
       "      <td>exonic</td>\n",
       "      <td>SLC25A46</td>\n",
       "      <td>.</td>\n",
       "      <td>nonsynonymous SNV</td>\n",
       "      <td>SLC25A46:NM_001303249:exon1:c.G44A:p.R15Q,SLC2...</td>\n",
       "      <td>...</td>\n",
       "      <td>0/0</td>\n",
       "      <td>0/0</td>\n",
       "      <td>0/0</td>\n",
       "      <td>0/0</td>\n",
       "      <td>0/0</td>\n",
       "      <td>0/0</td>\n",
       "      <td>0/0</td>\n",
       "      <td>0/0</td>\n",
       "      <td>0/0</td>\n",
       "      <td>0/0</td>\n",
       "    </tr>\n",
       "    <tr>\n",
       "      <th>61</th>\n",
       "      <td>5</td>\n",
       "      <td>110739171</td>\n",
       "      <td>110739171</td>\n",
       "      <td>G</td>\n",
       "      <td>T</td>\n",
       "      <td>exonic</td>\n",
       "      <td>SLC25A46</td>\n",
       "      <td>.</td>\n",
       "      <td>nonsynonymous SNV</td>\n",
       "      <td>SLC25A46:NM_001303249:exon1:c.G52T:p.A18S,SLC2...</td>\n",
       "      <td>...</td>\n",
       "      <td>0/0</td>\n",
       "      <td>0/0</td>\n",
       "      <td>0/0</td>\n",
       "      <td>0/0</td>\n",
       "      <td>0/0</td>\n",
       "      <td>0/0</td>\n",
       "      <td>0/0</td>\n",
       "      <td>0/0</td>\n",
       "      <td>0/0</td>\n",
       "      <td>0/0</td>\n",
       "    </tr>\n",
       "    <tr>\n",
       "      <th>62</th>\n",
       "      <td>5</td>\n",
       "      <td>110739182</td>\n",
       "      <td>110739182</td>\n",
       "      <td>G</td>\n",
       "      <td>T</td>\n",
       "      <td>exonic</td>\n",
       "      <td>SLC25A46</td>\n",
       "      <td>.</td>\n",
       "      <td>nonsynonymous SNV</td>\n",
       "      <td>SLC25A46:NM_001303249:exon1:c.G63T:p.E21D,SLC2...</td>\n",
       "      <td>...</td>\n",
       "      <td>0/0</td>\n",
       "      <td>0/0</td>\n",
       "      <td>0/0</td>\n",
       "      <td>0/0</td>\n",
       "      <td>0/0</td>\n",
       "      <td>0/0</td>\n",
       "      <td>0/0</td>\n",
       "      <td>0/0</td>\n",
       "      <td>0/0</td>\n",
       "      <td>0/0</td>\n",
       "    </tr>\n",
       "  </tbody>\n",
       "</table>\n",
       "<p>5 rows × 10441 columns</p>\n",
       "</div>"
      ],
      "text/plain": [
       "    Chr      Start        End  Ref Alt Func.refGene Gene.refGene  \\\n",
       "58    5  110739128  110739130  GCG   -       exonic     SLC25A46   \n",
       "59    5  110739131  110739131    G   A       exonic     SLC25A46   \n",
       "60    5  110739163  110739163    G   A       exonic     SLC25A46   \n",
       "61    5  110739171  110739171    G   T       exonic     SLC25A46   \n",
       "62    5  110739182  110739182    G   T       exonic     SLC25A46   \n",
       "\n",
       "   GeneDetail.refGene      ExonicFunc.refGene  \\\n",
       "58                  .  nonframeshift deletion   \n",
       "59                  .          synonymous SNV   \n",
       "60                  .       nonsynonymous SNV   \n",
       "61                  .       nonsynonymous SNV   \n",
       "62                  .       nonsynonymous SNV   \n",
       "\n",
       "                                     AAChange.refGene  ... Otherinfo10421  \\\n",
       "58  SLC25A46:NM_001303249:exon1:c.9_11del:p.3_4del...  ...            0/0   \n",
       "59  SLC25A46:NM_001303249:exon1:c.G12A:p.R4R,SLC25...  ...            0/0   \n",
       "60  SLC25A46:NM_001303249:exon1:c.G44A:p.R15Q,SLC2...  ...            0/0   \n",
       "61  SLC25A46:NM_001303249:exon1:c.G52T:p.A18S,SLC2...  ...            0/0   \n",
       "62  SLC25A46:NM_001303249:exon1:c.G63T:p.E21D,SLC2...  ...            0/0   \n",
       "\n",
       "    Otherinfo10422 Otherinfo10423 Otherinfo10424  Otherinfo10425  \\\n",
       "58             0/0            0/0            0/0             0/0   \n",
       "59             0/0            0/0            0/0             0/0   \n",
       "60             0/0            0/0            0/0             0/0   \n",
       "61             0/0            0/0            0/0             0/0   \n",
       "62             0/0            0/0            0/0             0/0   \n",
       "\n",
       "    Otherinfo10426 Otherinfo10427 Otherinfo10428 Otherinfo10429 Otherinfo10430  \n",
       "58             0/0            0/0            0/0            0/0            0/0  \n",
       "59             0/0            0/0            0/0            0/0            0/0  \n",
       "60             0/0            0/0            0/0            0/0            0/0  \n",
       "61             0/0            0/0            0/0            0/0            0/0  \n",
       "62             0/0            0/0            0/0            0/0            0/0  \n",
       "\n",
       "[5 rows x 10441 columns]"
      ]
     },
     "execution_count": 68,
     "metadata": {},
     "output_type": "execute_result"
    }
   ],
   "source": [
    "\n",
    "coding = SLC25A46[SLC25A46['Func.refGene'] == 'exonic']\n",
    "coding.head()"
   ]
  },
  {
   "cell_type": "code",
   "execution_count": 69,
   "metadata": {},
   "outputs": [
    {
     "data": {
      "text/plain": [
       "ExonicFunc.refGene\n",
       "nonsynonymous SNV          33\n",
       "synonymous SNV             14\n",
       "nonframeshift deletion      2\n",
       "nonframeshift insertion     1\n",
       "stoploss                    1\n",
       "Name: count, dtype: int64"
      ]
     },
     "execution_count": 69,
     "metadata": {},
     "output_type": "execute_result"
    }
   ],
   "source": [
    "coding['ExonicFunc.refGene'].value_counts()"
   ]
  },
  {
   "cell_type": "code",
   "execution_count": null,
   "metadata": {
    "scrolled": false
   },
   "outputs": [],
   "source": [
    "coding.to_csv(f'{WORK_DIR}/coding.txt', sep = '\\t', index = False)\n",
    "coding"
   ]
  },
  {
   "cell_type": "code",
   "execution_count": null,
   "metadata": {},
   "outputs": [],
   "source": [
    "# Filter intronic variants\n",
    "intronic = SLC25A46[SLC25A46['Func.refGene'] == 'intronic']\n",
    "intronic.head()"
   ]
  },
  {
   "cell_type": "code",
   "execution_count": 72,
   "metadata": {},
   "outputs": [
    {
     "data": {
      "text/plain": [
       "Chr               1030\n",
       "Start             1030\n",
       "End               1030\n",
       "Ref               1030\n",
       "Alt               1030\n",
       "                  ... \n",
       "Otherinfo10426    1030\n",
       "Otherinfo10427    1030\n",
       "Otherinfo10428    1030\n",
       "Otherinfo10429    1030\n",
       "Otherinfo10430    1030\n",
       "Length: 10441, dtype: int64"
      ]
     },
     "execution_count": 72,
     "metadata": {},
     "output_type": "execute_result"
    }
   ],
   "source": [
    "intronic.count()"
   ]
  },
  {
   "cell_type": "code",
   "execution_count": null,
   "metadata": {},
   "outputs": [],
   "source": [
    "# Filter UTR3 variants\n",
    "UTR3 = SLC25A46[SLC25A46['Func.refGene'] == 'UTR3']\n",
    "UTR3.head()"
   ]
  },
  {
   "cell_type": "code",
   "execution_count": 74,
   "metadata": {},
   "outputs": [
    {
     "data": {
      "text/plain": [
       "Chr               151\n",
       "Start             151\n",
       "End               151\n",
       "Ref               151\n",
       "Alt               151\n",
       "                 ... \n",
       "Otherinfo10426    151\n",
       "Otherinfo10427    151\n",
       "Otherinfo10428    151\n",
       "Otherinfo10429    151\n",
       "Otherinfo10430    151\n",
       "Length: 10441, dtype: int64"
      ]
     },
     "execution_count": 74,
     "metadata": {},
     "output_type": "execute_result"
    }
   ],
   "source": [
    "UTR3.count()"
   ]
  },
  {
   "cell_type": "code",
   "execution_count": null,
   "metadata": {},
   "outputs": [],
   "source": [
    "# Filter UTR5 variants\n",
    "UTR5 = SLC25A46[SLC25A46['Func.refGene'] == 'UTR5']\n",
    "UTR5.head()"
   ]
  },
  {
   "cell_type": "code",
   "execution_count": 76,
   "metadata": {},
   "outputs": [
    {
     "data": {
      "text/plain": [
       "Chr               23\n",
       "Start             23\n",
       "End               23\n",
       "Ref               23\n",
       "Alt               23\n",
       "                  ..\n",
       "Otherinfo10426    23\n",
       "Otherinfo10427    23\n",
       "Otherinfo10428    23\n",
       "Otherinfo10429    23\n",
       "Otherinfo10430    23\n",
       "Length: 10441, dtype: int64"
      ]
     },
     "execution_count": 76,
     "metadata": {},
     "output_type": "execute_result"
    }
   ],
   "source": [
    "UTR5.count()"
   ]
  },
  {
   "cell_type": "markdown",
   "metadata": {},
   "source": [
    "## Calculate freq of coding and non-syn vars in cases versus controls"
   ]
  },
  {
   "cell_type": "code",
   "execution_count": 77,
   "metadata": {},
   "outputs": [],
   "source": [
    "reduced_coding = coding[[\"Chr\", \"Start\", \"End\", \"Gene.refGene\"]]\n",
    "reduced_coding.to_csv(f'{WORK_DIR}/reduced_coding.txt', sep = '\\t', index = False, header= False)"
   ]
  },
  {
   "cell_type": "code",
   "execution_count": 78,
   "metadata": {
    "scrolled": true
   },
   "outputs": [
    {
     "name": "stdout",
     "output_type": "stream",
     "text": [
      "5\t110739128\t110739130\tSLC25A46\n",
      "5\t110739131\t110739131\tSLC25A46\n",
      "5\t110739163\t110739163\tSLC25A46\n",
      "5\t110739171\t110739171\tSLC25A46\n",
      "5\t110739182\t110739182\tSLC25A46\n",
      "5\t110739259\t110739259\tSLC25A46\n",
      "5\t110739263\t110739263\tSLC25A46\n",
      "5\t110739266\t110739266\tSLC25A46\n",
      "5\t110739267\t110739267\tSLC25A46\n",
      "5\t110739287\t110739287\tSLC25A46\n"
     ]
    }
   ],
   "source": [
    "%%bash\n",
    "\n",
    "WORK_DIR='/home/jupyter/SLC25A46_AMPPD/'\n",
    "cd $WORK_DIR\n",
    "\n",
    "head reduced_coding.txt"
   ]
  },
  {
   "cell_type": "code",
   "execution_count": 80,
   "metadata": {},
   "outputs": [
    {
     "name": "stdout",
     "output_type": "stream",
     "text": [
      "PLINK v1.90b6.9 64-bit (4 Mar 2019)            www.cog-genomics.org/plink/1.9/\n",
      "(C) 2005-2019 Shaun Purcell, Christopher Chang   GNU General Public License v3\n",
      "Logging to coding_pheno_SLC25A46.log.\n",
      "Options in effect:\n",
      "  --allow-no-sex\n",
      "  --assoc\n",
      "  --bfile pheno_SLC25A46\n",
      "  --ci 0.95\n",
      "  --extract range reduced_coding.txt\n",
      "  --out coding_pheno_SLC25A46\n",
      "\n",
      "3676 MB RAM detected; reserving 1838 MB for main workspace.\n",
      "1257 variants loaded from .bim file.\n",
      "10418 people (5782 males, 4636 females) loaded from .fam.\n",
      "7512 phenotype values loaded from .fam.\n",
      "--extract range: 1208 variants excluded.\n",
      "--extract range: 49 variants remaining.\n",
      "Using 1 thread.\n",
      "Before main variant filters, 10418 founders and 0 nonfounders present.\n",
      "Calculating allele frequencies... 10111213141516171819202122232425262728293031323334353637383940414243444546474849505152535455565758596061626364656667686970717273747576777879808182838485868788899091929394959697989 done.\n",
      "Total genotyping rate is 0.999996.\n",
      "49 variants and 10418 people pass filters and QC.\n",
      "Among remaining phenotypes, 3359 are cases and 4153 are controls.  (2906\n",
      "phenotypes are missing.)\n",
      "Writing C/C --assoc report to coding_pheno_SLC25A46.assoc ...\n",
      "done.\n"
     ]
    }
   ],
   "source": [
    "%%bash\n",
    "\n",
    "WORK_DIR='/home/jupyter/SLC25A46_AMPPD/'\n",
    "cd $WORK_DIR\n",
    "\n",
    "/home/jupyter/tools/plink --bfile pheno_SLC25A46 --extract range reduced_coding.txt --assoc --ci 0.95 --out coding_pheno_SLC25A46 --allow-no-sex"
   ]
  },
  {
   "cell_type": "code",
   "execution_count": 81,
   "metadata": {},
   "outputs": [
    {
     "data": {
      "text/html": [
       "<div>\n",
       "<style scoped>\n",
       "    .dataframe tbody tr th:only-of-type {\n",
       "        vertical-align: middle;\n",
       "    }\n",
       "\n",
       "    .dataframe tbody tr th {\n",
       "        vertical-align: top;\n",
       "    }\n",
       "\n",
       "    .dataframe thead th {\n",
       "        text-align: right;\n",
       "    }\n",
       "</style>\n",
       "<table border=\"1\" class=\"dataframe\">\n",
       "  <thead>\n",
       "    <tr style=\"text-align: right;\">\n",
       "      <th></th>\n",
       "      <th>CHR</th>\n",
       "      <th>SNP</th>\n",
       "      <th>BP</th>\n",
       "      <th>A1</th>\n",
       "      <th>F_A</th>\n",
       "      <th>F_U</th>\n",
       "      <th>A2</th>\n",
       "      <th>CHISQ</th>\n",
       "      <th>P</th>\n",
       "      <th>OR</th>\n",
       "      <th>SE</th>\n",
       "      <th>L95</th>\n",
       "      <th>U95</th>\n",
       "    </tr>\n",
       "  </thead>\n",
       "  <tbody>\n",
       "    <tr>\n",
       "      <th>0</th>\n",
       "      <td>5</td>\n",
       "      <td>5:110739131</td>\n",
       "      <td>110739131</td>\n",
       "      <td>A</td>\n",
       "      <td>0.000149</td>\n",
       "      <td>0.000000</td>\n",
       "      <td>G</td>\n",
       "      <td>1.236000</td>\n",
       "      <td>0.26620</td>\n",
       "      <td>NaN</td>\n",
       "      <td>NaN</td>\n",
       "      <td>NaN</td>\n",
       "      <td>NaN</td>\n",
       "    </tr>\n",
       "    <tr>\n",
       "      <th>1</th>\n",
       "      <td>5</td>\n",
       "      <td>5:110739163</td>\n",
       "      <td>110739163</td>\n",
       "      <td>A</td>\n",
       "      <td>0.000149</td>\n",
       "      <td>0.000000</td>\n",
       "      <td>G</td>\n",
       "      <td>1.236000</td>\n",
       "      <td>0.26620</td>\n",
       "      <td>NaN</td>\n",
       "      <td>NaN</td>\n",
       "      <td>NaN</td>\n",
       "      <td>NaN</td>\n",
       "    </tr>\n",
       "    <tr>\n",
       "      <th>2</th>\n",
       "      <td>5</td>\n",
       "      <td>5:110739171</td>\n",
       "      <td>110739171</td>\n",
       "      <td>T</td>\n",
       "      <td>0.000149</td>\n",
       "      <td>0.000361</td>\n",
       "      <td>G</td>\n",
       "      <td>0.629100</td>\n",
       "      <td>0.42770</td>\n",
       "      <td>0.4120</td>\n",
       "      <td>1.15500</td>\n",
       "      <td>0.04285</td>\n",
       "      <td>3.962</td>\n",
       "    </tr>\n",
       "    <tr>\n",
       "      <th>3</th>\n",
       "      <td>5</td>\n",
       "      <td>5:110739182</td>\n",
       "      <td>110739182</td>\n",
       "      <td>T</td>\n",
       "      <td>0.000000</td>\n",
       "      <td>0.000120</td>\n",
       "      <td>G</td>\n",
       "      <td>0.808900</td>\n",
       "      <td>0.36850</td>\n",
       "      <td>0.0000</td>\n",
       "      <td>inf</td>\n",
       "      <td>0.00000</td>\n",
       "      <td>NaN</td>\n",
       "    </tr>\n",
       "    <tr>\n",
       "      <th>4</th>\n",
       "      <td>5</td>\n",
       "      <td>5:110739259</td>\n",
       "      <td>110739259</td>\n",
       "      <td>A</td>\n",
       "      <td>0.000149</td>\n",
       "      <td>0.000000</td>\n",
       "      <td>C</td>\n",
       "      <td>1.236000</td>\n",
       "      <td>0.26620</td>\n",
       "      <td>NaN</td>\n",
       "      <td>NaN</td>\n",
       "      <td>NaN</td>\n",
       "      <td>NaN</td>\n",
       "    </tr>\n",
       "    <tr>\n",
       "      <th>5</th>\n",
       "      <td>5</td>\n",
       "      <td>5:110739263</td>\n",
       "      <td>110739263</td>\n",
       "      <td>C</td>\n",
       "      <td>0.000149</td>\n",
       "      <td>0.000000</td>\n",
       "      <td>T</td>\n",
       "      <td>1.236000</td>\n",
       "      <td>0.26620</td>\n",
       "      <td>NaN</td>\n",
       "      <td>NaN</td>\n",
       "      <td>NaN</td>\n",
       "      <td>NaN</td>\n",
       "    </tr>\n",
       "    <tr>\n",
       "      <th>6</th>\n",
       "      <td>5</td>\n",
       "      <td>5:110739266</td>\n",
       "      <td>110739266</td>\n",
       "      <td>T</td>\n",
       "      <td>0.023970</td>\n",
       "      <td>0.019140</td>\n",
       "      <td>C</td>\n",
       "      <td>4.144000</td>\n",
       "      <td>0.04178</td>\n",
       "      <td>1.2580</td>\n",
       "      <td>0.11300</td>\n",
       "      <td>1.00800</td>\n",
       "      <td>1.570</td>\n",
       "    </tr>\n",
       "    <tr>\n",
       "      <th>7</th>\n",
       "      <td>5</td>\n",
       "      <td>5:110739267</td>\n",
       "      <td>110739267</td>\n",
       "      <td>A</td>\n",
       "      <td>0.001489</td>\n",
       "      <td>0.000361</td>\n",
       "      <td>C</td>\n",
       "      <td>5.460000</td>\n",
       "      <td>0.01946</td>\n",
       "      <td>4.1260</td>\n",
       "      <td>0.65850</td>\n",
       "      <td>1.13500</td>\n",
       "      <td>15.000</td>\n",
       "    </tr>\n",
       "    <tr>\n",
       "      <th>8</th>\n",
       "      <td>5</td>\n",
       "      <td>5:110739287</td>\n",
       "      <td>110739287</td>\n",
       "      <td>T</td>\n",
       "      <td>0.000149</td>\n",
       "      <td>0.000000</td>\n",
       "      <td>C</td>\n",
       "      <td>1.236000</td>\n",
       "      <td>0.26620</td>\n",
       "      <td>NaN</td>\n",
       "      <td>NaN</td>\n",
       "      <td>NaN</td>\n",
       "      <td>NaN</td>\n",
       "    </tr>\n",
       "    <tr>\n",
       "      <th>9</th>\n",
       "      <td>5</td>\n",
       "      <td>5:110739305</td>\n",
       "      <td>110739305</td>\n",
       "      <td>A</td>\n",
       "      <td>0.000000</td>\n",
       "      <td>0.000000</td>\n",
       "      <td>G</td>\n",
       "      <td>NaN</td>\n",
       "      <td>NaN</td>\n",
       "      <td>NaN</td>\n",
       "      <td>NaN</td>\n",
       "      <td>NaN</td>\n",
       "      <td>NaN</td>\n",
       "    </tr>\n",
       "    <tr>\n",
       "      <th>10</th>\n",
       "      <td>5</td>\n",
       "      <td>5:110739329</td>\n",
       "      <td>110739329</td>\n",
       "      <td>T</td>\n",
       "      <td>0.000149</td>\n",
       "      <td>0.000000</td>\n",
       "      <td>C</td>\n",
       "      <td>1.236000</td>\n",
       "      <td>0.26620</td>\n",
       "      <td>NaN</td>\n",
       "      <td>NaN</td>\n",
       "      <td>NaN</td>\n",
       "      <td>NaN</td>\n",
       "    </tr>\n",
       "    <tr>\n",
       "      <th>11</th>\n",
       "      <td>5</td>\n",
       "      <td>5:110739354</td>\n",
       "      <td>110739354</td>\n",
       "      <td>A</td>\n",
       "      <td>0.001489</td>\n",
       "      <td>0.002649</td>\n",
       "      <td>G</td>\n",
       "      <td>2.352000</td>\n",
       "      <td>0.12510</td>\n",
       "      <td>0.5613</td>\n",
       "      <td>0.38170</td>\n",
       "      <td>0.26560</td>\n",
       "      <td>1.186</td>\n",
       "    </tr>\n",
       "    <tr>\n",
       "      <th>12</th>\n",
       "      <td>5</td>\n",
       "      <td>5:110739384</td>\n",
       "      <td>110739384</td>\n",
       "      <td>C</td>\n",
       "      <td>0.000149</td>\n",
       "      <td>0.000000</td>\n",
       "      <td>G</td>\n",
       "      <td>1.236000</td>\n",
       "      <td>0.26620</td>\n",
       "      <td>NaN</td>\n",
       "      <td>NaN</td>\n",
       "      <td>NaN</td>\n",
       "      <td>NaN</td>\n",
       "    </tr>\n",
       "    <tr>\n",
       "      <th>13</th>\n",
       "      <td>5</td>\n",
       "      <td>5:110739398</td>\n",
       "      <td>110739398</td>\n",
       "      <td>G</td>\n",
       "      <td>0.000000</td>\n",
       "      <td>0.000120</td>\n",
       "      <td>C</td>\n",
       "      <td>0.808900</td>\n",
       "      <td>0.36850</td>\n",
       "      <td>0.0000</td>\n",
       "      <td>inf</td>\n",
       "      <td>0.00000</td>\n",
       "      <td>NaN</td>\n",
       "    </tr>\n",
       "    <tr>\n",
       "      <th>14</th>\n",
       "      <td>5</td>\n",
       "      <td>5:110743749</td>\n",
       "      <td>110743749</td>\n",
       "      <td>C</td>\n",
       "      <td>0.086340</td>\n",
       "      <td>0.087650</td>\n",
       "      <td>T</td>\n",
       "      <td>0.080470</td>\n",
       "      <td>0.77670</td>\n",
       "      <td>0.9836</td>\n",
       "      <td>0.05825</td>\n",
       "      <td>0.87750</td>\n",
       "      <td>1.103</td>\n",
       "    </tr>\n",
       "    <tr>\n",
       "      <th>15</th>\n",
       "      <td>5</td>\n",
       "      <td>5:110743757</td>\n",
       "      <td>110743757</td>\n",
       "      <td>C</td>\n",
       "      <td>0.000000</td>\n",
       "      <td>0.000120</td>\n",
       "      <td>T</td>\n",
       "      <td>0.808900</td>\n",
       "      <td>0.36850</td>\n",
       "      <td>0.0000</td>\n",
       "      <td>inf</td>\n",
       "      <td>0.00000</td>\n",
       "      <td>NaN</td>\n",
       "    </tr>\n",
       "    <tr>\n",
       "      <th>16</th>\n",
       "      <td>5</td>\n",
       "      <td>5:110743762</td>\n",
       "      <td>110743762</td>\n",
       "      <td>A</td>\n",
       "      <td>0.000000</td>\n",
       "      <td>0.000000</td>\n",
       "      <td>G</td>\n",
       "      <td>NaN</td>\n",
       "      <td>NaN</td>\n",
       "      <td>NaN</td>\n",
       "      <td>NaN</td>\n",
       "      <td>NaN</td>\n",
       "      <td>NaN</td>\n",
       "    </tr>\n",
       "    <tr>\n",
       "      <th>17</th>\n",
       "      <td>5</td>\n",
       "      <td>5:110743774</td>\n",
       "      <td>110743774</td>\n",
       "      <td>A</td>\n",
       "      <td>0.000000</td>\n",
       "      <td>0.000120</td>\n",
       "      <td>G</td>\n",
       "      <td>0.808900</td>\n",
       "      <td>0.36850</td>\n",
       "      <td>0.0000</td>\n",
       "      <td>inf</td>\n",
       "      <td>0.00000</td>\n",
       "      <td>NaN</td>\n",
       "    </tr>\n",
       "    <tr>\n",
       "      <th>18</th>\n",
       "      <td>5</td>\n",
       "      <td>5:110743777</td>\n",
       "      <td>110743777</td>\n",
       "      <td>A</td>\n",
       "      <td>0.000000</td>\n",
       "      <td>0.000120</td>\n",
       "      <td>G</td>\n",
       "      <td>0.808900</td>\n",
       "      <td>0.36850</td>\n",
       "      <td>0.0000</td>\n",
       "      <td>inf</td>\n",
       "      <td>0.00000</td>\n",
       "      <td>NaN</td>\n",
       "    </tr>\n",
       "    <tr>\n",
       "      <th>19</th>\n",
       "      <td>5</td>\n",
       "      <td>5:110743781</td>\n",
       "      <td>110743781</td>\n",
       "      <td>G</td>\n",
       "      <td>0.006401</td>\n",
       "      <td>0.005899</td>\n",
       "      <td>A</td>\n",
       "      <td>0.153400</td>\n",
       "      <td>0.69530</td>\n",
       "      <td>1.0860</td>\n",
       "      <td>0.20960</td>\n",
       "      <td>0.71980</td>\n",
       "      <td>1.637</td>\n",
       "    </tr>\n",
       "    <tr>\n",
       "      <th>20</th>\n",
       "      <td>5</td>\n",
       "      <td>5:110746285</td>\n",
       "      <td>110746285</td>\n",
       "      <td>G</td>\n",
       "      <td>0.000149</td>\n",
       "      <td>0.000000</td>\n",
       "      <td>A</td>\n",
       "      <td>1.236000</td>\n",
       "      <td>0.26620</td>\n",
       "      <td>NaN</td>\n",
       "      <td>NaN</td>\n",
       "      <td>NaN</td>\n",
       "      <td>NaN</td>\n",
       "    </tr>\n",
       "    <tr>\n",
       "      <th>21</th>\n",
       "      <td>5</td>\n",
       "      <td>5:110746294</td>\n",
       "      <td>110746294</td>\n",
       "      <td>G</td>\n",
       "      <td>0.000298</td>\n",
       "      <td>0.000000</td>\n",
       "      <td>A</td>\n",
       "      <td>2.473000</td>\n",
       "      <td>0.11580</td>\n",
       "      <td>NaN</td>\n",
       "      <td>NaN</td>\n",
       "      <td>NaN</td>\n",
       "      <td>NaN</td>\n",
       "    </tr>\n",
       "    <tr>\n",
       "      <th>22</th>\n",
       "      <td>5</td>\n",
       "      <td>5:110746313</td>\n",
       "      <td>110746313</td>\n",
       "      <td>T</td>\n",
       "      <td>0.007889</td>\n",
       "      <td>0.007826</td>\n",
       "      <td>C</td>\n",
       "      <td>0.001927</td>\n",
       "      <td>0.96500</td>\n",
       "      <td>1.0080</td>\n",
       "      <td>0.18580</td>\n",
       "      <td>0.70050</td>\n",
       "      <td>1.451</td>\n",
       "    </tr>\n",
       "    <tr>\n",
       "      <th>23</th>\n",
       "      <td>5</td>\n",
       "      <td>5:110746320</td>\n",
       "      <td>110746320</td>\n",
       "      <td>G</td>\n",
       "      <td>0.000000</td>\n",
       "      <td>0.000000</td>\n",
       "      <td>A</td>\n",
       "      <td>NaN</td>\n",
       "      <td>NaN</td>\n",
       "      <td>NaN</td>\n",
       "      <td>NaN</td>\n",
       "      <td>NaN</td>\n",
       "      <td>NaN</td>\n",
       "    </tr>\n",
       "    <tr>\n",
       "      <th>24</th>\n",
       "      <td>5</td>\n",
       "      <td>5:110755470</td>\n",
       "      <td>110755470</td>\n",
       "      <td>C</td>\n",
       "      <td>0.000149</td>\n",
       "      <td>0.000000</td>\n",
       "      <td>T</td>\n",
       "      <td>1.236000</td>\n",
       "      <td>0.26620</td>\n",
       "      <td>NaN</td>\n",
       "      <td>NaN</td>\n",
       "      <td>NaN</td>\n",
       "      <td>NaN</td>\n",
       "    </tr>\n",
       "    <tr>\n",
       "      <th>25</th>\n",
       "      <td>5</td>\n",
       "      <td>5:110756711</td>\n",
       "      <td>110756711</td>\n",
       "      <td>T</td>\n",
       "      <td>0.000298</td>\n",
       "      <td>0.000120</td>\n",
       "      <td>C</td>\n",
       "      <td>0.584900</td>\n",
       "      <td>0.44440</td>\n",
       "      <td>2.4730</td>\n",
       "      <td>1.22500</td>\n",
       "      <td>0.22420</td>\n",
       "      <td>27.280</td>\n",
       "    </tr>\n",
       "    <tr>\n",
       "      <th>26</th>\n",
       "      <td>5</td>\n",
       "      <td>5:110756712</td>\n",
       "      <td>110756712</td>\n",
       "      <td>A</td>\n",
       "      <td>0.003424</td>\n",
       "      <td>0.003732</td>\n",
       "      <td>G</td>\n",
       "      <td>0.098770</td>\n",
       "      <td>0.75330</td>\n",
       "      <td>0.9170</td>\n",
       "      <td>0.27570</td>\n",
       "      <td>0.53420</td>\n",
       "      <td>1.574</td>\n",
       "    </tr>\n",
       "    <tr>\n",
       "      <th>27</th>\n",
       "      <td>5</td>\n",
       "      <td>5:110756742</td>\n",
       "      <td>110756742</td>\n",
       "      <td>A</td>\n",
       "      <td>0.000000</td>\n",
       "      <td>0.000000</td>\n",
       "      <td>C</td>\n",
       "      <td>NaN</td>\n",
       "      <td>NaN</td>\n",
       "      <td>NaN</td>\n",
       "      <td>NaN</td>\n",
       "      <td>NaN</td>\n",
       "      <td>NaN</td>\n",
       "    </tr>\n",
       "    <tr>\n",
       "      <th>28</th>\n",
       "      <td>5</td>\n",
       "      <td>5:110756754</td>\n",
       "      <td>110756754</td>\n",
       "      <td>A</td>\n",
       "      <td>0.000000</td>\n",
       "      <td>0.000000</td>\n",
       "      <td>G</td>\n",
       "      <td>NaN</td>\n",
       "      <td>NaN</td>\n",
       "      <td>NaN</td>\n",
       "      <td>NaN</td>\n",
       "      <td>NaN</td>\n",
       "      <td>NaN</td>\n",
       "    </tr>\n",
       "    <tr>\n",
       "      <th>29</th>\n",
       "      <td>5</td>\n",
       "      <td>5:110761217</td>\n",
       "      <td>110761217</td>\n",
       "      <td>A</td>\n",
       "      <td>0.000000</td>\n",
       "      <td>0.000120</td>\n",
       "      <td>G</td>\n",
       "      <td>0.808900</td>\n",
       "      <td>0.36850</td>\n",
       "      <td>0.0000</td>\n",
       "      <td>inf</td>\n",
       "      <td>0.00000</td>\n",
       "      <td>NaN</td>\n",
       "    </tr>\n",
       "    <tr>\n",
       "      <th>30</th>\n",
       "      <td>5</td>\n",
       "      <td>5:110761234</td>\n",
       "      <td>110761234</td>\n",
       "      <td>C</td>\n",
       "      <td>0.000000</td>\n",
       "      <td>0.000120</td>\n",
       "      <td>T</td>\n",
       "      <td>0.808900</td>\n",
       "      <td>0.36850</td>\n",
       "      <td>0.0000</td>\n",
       "      <td>inf</td>\n",
       "      <td>0.00000</td>\n",
       "      <td>NaN</td>\n",
       "    </tr>\n",
       "    <tr>\n",
       "      <th>31</th>\n",
       "      <td>5</td>\n",
       "      <td>5:110761239</td>\n",
       "      <td>110761239</td>\n",
       "      <td>A</td>\n",
       "      <td>0.084250</td>\n",
       "      <td>0.085120</td>\n",
       "      <td>G</td>\n",
       "      <td>0.036080</td>\n",
       "      <td>0.84940</td>\n",
       "      <td>0.9889</td>\n",
       "      <td>0.05895</td>\n",
       "      <td>0.88100</td>\n",
       "      <td>1.110</td>\n",
       "    </tr>\n",
       "    <tr>\n",
       "      <th>32</th>\n",
       "      <td>5</td>\n",
       "      <td>5:110761267</td>\n",
       "      <td>110761267</td>\n",
       "      <td>C</td>\n",
       "      <td>0.000000</td>\n",
       "      <td>0.000120</td>\n",
       "      <td>A</td>\n",
       "      <td>0.808900</td>\n",
       "      <td>0.36850</td>\n",
       "      <td>0.0000</td>\n",
       "      <td>inf</td>\n",
       "      <td>0.00000</td>\n",
       "      <td>NaN</td>\n",
       "    </tr>\n",
       "    <tr>\n",
       "      <th>33</th>\n",
       "      <td>5</td>\n",
       "      <td>5:110761271</td>\n",
       "      <td>110761271</td>\n",
       "      <td>A</td>\n",
       "      <td>0.000149</td>\n",
       "      <td>0.000000</td>\n",
       "      <td>G</td>\n",
       "      <td>1.236000</td>\n",
       "      <td>0.26620</td>\n",
       "      <td>NaN</td>\n",
       "      <td>NaN</td>\n",
       "      <td>NaN</td>\n",
       "      <td>NaN</td>\n",
       "    </tr>\n",
       "    <tr>\n",
       "      <th>34</th>\n",
       "      <td>5</td>\n",
       "      <td>5:110761292</td>\n",
       "      <td>110761292</td>\n",
       "      <td>G</td>\n",
       "      <td>0.001935</td>\n",
       "      <td>0.003251</td>\n",
       "      <td>A</td>\n",
       "      <td>2.421000</td>\n",
       "      <td>0.11970</td>\n",
       "      <td>0.5945</td>\n",
       "      <td>0.33800</td>\n",
       "      <td>0.30650</td>\n",
       "      <td>1.153</td>\n",
       "    </tr>\n",
       "    <tr>\n",
       "      <th>35</th>\n",
       "      <td>5</td>\n",
       "      <td>5:110761301</td>\n",
       "      <td>110761301</td>\n",
       "      <td>G</td>\n",
       "      <td>0.000149</td>\n",
       "      <td>0.000120</td>\n",
       "      <td>T</td>\n",
       "      <td>0.022600</td>\n",
       "      <td>0.88050</td>\n",
       "      <td>1.2360</td>\n",
       "      <td>1.41400</td>\n",
       "      <td>0.07732</td>\n",
       "      <td>19.770</td>\n",
       "    </tr>\n",
       "    <tr>\n",
       "      <th>36</th>\n",
       "      <td>5</td>\n",
       "      <td>5:110761329</td>\n",
       "      <td>110761329</td>\n",
       "      <td>A</td>\n",
       "      <td>0.000149</td>\n",
       "      <td>0.000000</td>\n",
       "      <td>G</td>\n",
       "      <td>1.236000</td>\n",
       "      <td>0.26620</td>\n",
       "      <td>NaN</td>\n",
       "      <td>NaN</td>\n",
       "      <td>NaN</td>\n",
       "      <td>NaN</td>\n",
       "    </tr>\n",
       "    <tr>\n",
       "      <th>37</th>\n",
       "      <td>5</td>\n",
       "      <td>5:110761337</td>\n",
       "      <td>110761337</td>\n",
       "      <td>G</td>\n",
       "      <td>0.000149</td>\n",
       "      <td>0.000000</td>\n",
       "      <td>A</td>\n",
       "      <td>1.236000</td>\n",
       "      <td>0.26620</td>\n",
       "      <td>NaN</td>\n",
       "      <td>NaN</td>\n",
       "      <td>NaN</td>\n",
       "      <td>NaN</td>\n",
       "    </tr>\n",
       "    <tr>\n",
       "      <th>38</th>\n",
       "      <td>5</td>\n",
       "      <td>5:110761354</td>\n",
       "      <td>110761354</td>\n",
       "      <td>C</td>\n",
       "      <td>0.000149</td>\n",
       "      <td>0.000000</td>\n",
       "      <td>A</td>\n",
       "      <td>1.236000</td>\n",
       "      <td>0.26620</td>\n",
       "      <td>NaN</td>\n",
       "      <td>NaN</td>\n",
       "      <td>NaN</td>\n",
       "      <td>NaN</td>\n",
       "    </tr>\n",
       "    <tr>\n",
       "      <th>39</th>\n",
       "      <td>5</td>\n",
       "      <td>5:110761366</td>\n",
       "      <td>110761366</td>\n",
       "      <td>C</td>\n",
       "      <td>0.000149</td>\n",
       "      <td>0.000000</td>\n",
       "      <td>G</td>\n",
       "      <td>1.236000</td>\n",
       "      <td>0.26620</td>\n",
       "      <td>NaN</td>\n",
       "      <td>NaN</td>\n",
       "      <td>NaN</td>\n",
       "      <td>NaN</td>\n",
       "    </tr>\n",
       "    <tr>\n",
       "      <th>40</th>\n",
       "      <td>5</td>\n",
       "      <td>5:110761370</td>\n",
       "      <td>110761370</td>\n",
       "      <td>C</td>\n",
       "      <td>0.000149</td>\n",
       "      <td>0.000000</td>\n",
       "      <td>T</td>\n",
       "      <td>1.236000</td>\n",
       "      <td>0.26620</td>\n",
       "      <td>NaN</td>\n",
       "      <td>NaN</td>\n",
       "      <td>NaN</td>\n",
       "      <td>NaN</td>\n",
       "    </tr>\n",
       "    <tr>\n",
       "      <th>41</th>\n",
       "      <td>5</td>\n",
       "      <td>5:110761412</td>\n",
       "      <td>110761412</td>\n",
       "      <td>G</td>\n",
       "      <td>0.000000</td>\n",
       "      <td>0.000000</td>\n",
       "      <td>A</td>\n",
       "      <td>NaN</td>\n",
       "      <td>NaN</td>\n",
       "      <td>NaN</td>\n",
       "      <td>NaN</td>\n",
       "      <td>NaN</td>\n",
       "      <td>NaN</td>\n",
       "    </tr>\n",
       "    <tr>\n",
       "      <th>42</th>\n",
       "      <td>5</td>\n",
       "      <td>5:110761460</td>\n",
       "      <td>110761460</td>\n",
       "      <td>CTTA</td>\n",
       "      <td>0.001191</td>\n",
       "      <td>0.001445</td>\n",
       "      <td>C</td>\n",
       "      <td>0.180100</td>\n",
       "      <td>0.67130</td>\n",
       "      <td>0.8240</td>\n",
       "      <td>0.45670</td>\n",
       "      <td>0.33670</td>\n",
       "      <td>2.017</td>\n",
       "    </tr>\n",
       "    <tr>\n",
       "      <th>43</th>\n",
       "      <td>5</td>\n",
       "      <td>5:110761468</td>\n",
       "      <td>110761468</td>\n",
       "      <td>T</td>\n",
       "      <td>0.000000</td>\n",
       "      <td>0.000120</td>\n",
       "      <td>C</td>\n",
       "      <td>0.808900</td>\n",
       "      <td>0.36850</td>\n",
       "      <td>0.0000</td>\n",
       "      <td>inf</td>\n",
       "      <td>0.00000</td>\n",
       "      <td>NaN</td>\n",
       "    </tr>\n",
       "    <tr>\n",
       "      <th>44</th>\n",
       "      <td>5</td>\n",
       "      <td>5:110761480</td>\n",
       "      <td>110761480</td>\n",
       "      <td>C</td>\n",
       "      <td>0.000149</td>\n",
       "      <td>0.000000</td>\n",
       "      <td>G</td>\n",
       "      <td>1.236000</td>\n",
       "      <td>0.26620</td>\n",
       "      <td>NaN</td>\n",
       "      <td>NaN</td>\n",
       "      <td>NaN</td>\n",
       "      <td>NaN</td>\n",
       "    </tr>\n",
       "    <tr>\n",
       "      <th>45</th>\n",
       "      <td>5</td>\n",
       "      <td>5:110761510</td>\n",
       "      <td>110761510</td>\n",
       "      <td>A</td>\n",
       "      <td>0.000000</td>\n",
       "      <td>0.000120</td>\n",
       "      <td>G</td>\n",
       "      <td>0.808900</td>\n",
       "      <td>0.36850</td>\n",
       "      <td>0.0000</td>\n",
       "      <td>inf</td>\n",
       "      <td>0.00000</td>\n",
       "      <td>NaN</td>\n",
       "    </tr>\n",
       "    <tr>\n",
       "      <th>46</th>\n",
       "      <td>5</td>\n",
       "      <td>5:110761662</td>\n",
       "      <td>110761662</td>\n",
       "      <td>T</td>\n",
       "      <td>0.001191</td>\n",
       "      <td>0.002528</td>\n",
       "      <td>G</td>\n",
       "      <td>3.449000</td>\n",
       "      <td>0.06331</td>\n",
       "      <td>0.4704</td>\n",
       "      <td>0.41580</td>\n",
       "      <td>0.20820</td>\n",
       "      <td>1.063</td>\n",
       "    </tr>\n",
       "    <tr>\n",
       "      <th>47</th>\n",
       "      <td>5</td>\n",
       "      <td>5:110761750</td>\n",
       "      <td>110761750</td>\n",
       "      <td>G</td>\n",
       "      <td>0.000149</td>\n",
       "      <td>0.000000</td>\n",
       "      <td>A</td>\n",
       "      <td>1.236000</td>\n",
       "      <td>0.26620</td>\n",
       "      <td>NaN</td>\n",
       "      <td>NaN</td>\n",
       "      <td>NaN</td>\n",
       "      <td>NaN</td>\n",
       "    </tr>\n",
       "    <tr>\n",
       "      <th>48</th>\n",
       "      <td>5</td>\n",
       "      <td>5:110761781</td>\n",
       "      <td>110761781</td>\n",
       "      <td>C</td>\n",
       "      <td>0.000000</td>\n",
       "      <td>0.000000</td>\n",
       "      <td>G</td>\n",
       "      <td>NaN</td>\n",
       "      <td>NaN</td>\n",
       "      <td>NaN</td>\n",
       "      <td>NaN</td>\n",
       "      <td>NaN</td>\n",
       "      <td>NaN</td>\n",
       "    </tr>\n",
       "  </tbody>\n",
       "</table>\n",
       "</div>"
      ],
      "text/plain": [
       "    CHR          SNP         BP    A1       F_A       F_U A2     CHISQ  \\\n",
       "0     5  5:110739131  110739131     A  0.000149  0.000000  G  1.236000   \n",
       "1     5  5:110739163  110739163     A  0.000149  0.000000  G  1.236000   \n",
       "2     5  5:110739171  110739171     T  0.000149  0.000361  G  0.629100   \n",
       "3     5  5:110739182  110739182     T  0.000000  0.000120  G  0.808900   \n",
       "4     5  5:110739259  110739259     A  0.000149  0.000000  C  1.236000   \n",
       "5     5  5:110739263  110739263     C  0.000149  0.000000  T  1.236000   \n",
       "6     5  5:110739266  110739266     T  0.023970  0.019140  C  4.144000   \n",
       "7     5  5:110739267  110739267     A  0.001489  0.000361  C  5.460000   \n",
       "8     5  5:110739287  110739287     T  0.000149  0.000000  C  1.236000   \n",
       "9     5  5:110739305  110739305     A  0.000000  0.000000  G       NaN   \n",
       "10    5  5:110739329  110739329     T  0.000149  0.000000  C  1.236000   \n",
       "11    5  5:110739354  110739354     A  0.001489  0.002649  G  2.352000   \n",
       "12    5  5:110739384  110739384     C  0.000149  0.000000  G  1.236000   \n",
       "13    5  5:110739398  110739398     G  0.000000  0.000120  C  0.808900   \n",
       "14    5  5:110743749  110743749     C  0.086340  0.087650  T  0.080470   \n",
       "15    5  5:110743757  110743757     C  0.000000  0.000120  T  0.808900   \n",
       "16    5  5:110743762  110743762     A  0.000000  0.000000  G       NaN   \n",
       "17    5  5:110743774  110743774     A  0.000000  0.000120  G  0.808900   \n",
       "18    5  5:110743777  110743777     A  0.000000  0.000120  G  0.808900   \n",
       "19    5  5:110743781  110743781     G  0.006401  0.005899  A  0.153400   \n",
       "20    5  5:110746285  110746285     G  0.000149  0.000000  A  1.236000   \n",
       "21    5  5:110746294  110746294     G  0.000298  0.000000  A  2.473000   \n",
       "22    5  5:110746313  110746313     T  0.007889  0.007826  C  0.001927   \n",
       "23    5  5:110746320  110746320     G  0.000000  0.000000  A       NaN   \n",
       "24    5  5:110755470  110755470     C  0.000149  0.000000  T  1.236000   \n",
       "25    5  5:110756711  110756711     T  0.000298  0.000120  C  0.584900   \n",
       "26    5  5:110756712  110756712     A  0.003424  0.003732  G  0.098770   \n",
       "27    5  5:110756742  110756742     A  0.000000  0.000000  C       NaN   \n",
       "28    5  5:110756754  110756754     A  0.000000  0.000000  G       NaN   \n",
       "29    5  5:110761217  110761217     A  0.000000  0.000120  G  0.808900   \n",
       "30    5  5:110761234  110761234     C  0.000000  0.000120  T  0.808900   \n",
       "31    5  5:110761239  110761239     A  0.084250  0.085120  G  0.036080   \n",
       "32    5  5:110761267  110761267     C  0.000000  0.000120  A  0.808900   \n",
       "33    5  5:110761271  110761271     A  0.000149  0.000000  G  1.236000   \n",
       "34    5  5:110761292  110761292     G  0.001935  0.003251  A  2.421000   \n",
       "35    5  5:110761301  110761301     G  0.000149  0.000120  T  0.022600   \n",
       "36    5  5:110761329  110761329     A  0.000149  0.000000  G  1.236000   \n",
       "37    5  5:110761337  110761337     G  0.000149  0.000000  A  1.236000   \n",
       "38    5  5:110761354  110761354     C  0.000149  0.000000  A  1.236000   \n",
       "39    5  5:110761366  110761366     C  0.000149  0.000000  G  1.236000   \n",
       "40    5  5:110761370  110761370     C  0.000149  0.000000  T  1.236000   \n",
       "41    5  5:110761412  110761412     G  0.000000  0.000000  A       NaN   \n",
       "42    5  5:110761460  110761460  CTTA  0.001191  0.001445  C  0.180100   \n",
       "43    5  5:110761468  110761468     T  0.000000  0.000120  C  0.808900   \n",
       "44    5  5:110761480  110761480     C  0.000149  0.000000  G  1.236000   \n",
       "45    5  5:110761510  110761510     A  0.000000  0.000120  G  0.808900   \n",
       "46    5  5:110761662  110761662     T  0.001191  0.002528  G  3.449000   \n",
       "47    5  5:110761750  110761750     G  0.000149  0.000000  A  1.236000   \n",
       "48    5  5:110761781  110761781     C  0.000000  0.000000  G       NaN   \n",
       "\n",
       "          P      OR       SE      L95     U95  \n",
       "0   0.26620     NaN      NaN      NaN     NaN  \n",
       "1   0.26620     NaN      NaN      NaN     NaN  \n",
       "2   0.42770  0.4120  1.15500  0.04285   3.962  \n",
       "3   0.36850  0.0000      inf  0.00000     NaN  \n",
       "4   0.26620     NaN      NaN      NaN     NaN  \n",
       "5   0.26620     NaN      NaN      NaN     NaN  \n",
       "6   0.04178  1.2580  0.11300  1.00800   1.570  \n",
       "7   0.01946  4.1260  0.65850  1.13500  15.000  \n",
       "8   0.26620     NaN      NaN      NaN     NaN  \n",
       "9       NaN     NaN      NaN      NaN     NaN  \n",
       "10  0.26620     NaN      NaN      NaN     NaN  \n",
       "11  0.12510  0.5613  0.38170  0.26560   1.186  \n",
       "12  0.26620     NaN      NaN      NaN     NaN  \n",
       "13  0.36850  0.0000      inf  0.00000     NaN  \n",
       "14  0.77670  0.9836  0.05825  0.87750   1.103  \n",
       "15  0.36850  0.0000      inf  0.00000     NaN  \n",
       "16      NaN     NaN      NaN      NaN     NaN  \n",
       "17  0.36850  0.0000      inf  0.00000     NaN  \n",
       "18  0.36850  0.0000      inf  0.00000     NaN  \n",
       "19  0.69530  1.0860  0.20960  0.71980   1.637  \n",
       "20  0.26620     NaN      NaN      NaN     NaN  \n",
       "21  0.11580     NaN      NaN      NaN     NaN  \n",
       "22  0.96500  1.0080  0.18580  0.70050   1.451  \n",
       "23      NaN     NaN      NaN      NaN     NaN  \n",
       "24  0.26620     NaN      NaN      NaN     NaN  \n",
       "25  0.44440  2.4730  1.22500  0.22420  27.280  \n",
       "26  0.75330  0.9170  0.27570  0.53420   1.574  \n",
       "27      NaN     NaN      NaN      NaN     NaN  \n",
       "28      NaN     NaN      NaN      NaN     NaN  \n",
       "29  0.36850  0.0000      inf  0.00000     NaN  \n",
       "30  0.36850  0.0000      inf  0.00000     NaN  \n",
       "31  0.84940  0.9889  0.05895  0.88100   1.110  \n",
       "32  0.36850  0.0000      inf  0.00000     NaN  \n",
       "33  0.26620     NaN      NaN      NaN     NaN  \n",
       "34  0.11970  0.5945  0.33800  0.30650   1.153  \n",
       "35  0.88050  1.2360  1.41400  0.07732  19.770  \n",
       "36  0.26620     NaN      NaN      NaN     NaN  \n",
       "37  0.26620     NaN      NaN      NaN     NaN  \n",
       "38  0.26620     NaN      NaN      NaN     NaN  \n",
       "39  0.26620     NaN      NaN      NaN     NaN  \n",
       "40  0.26620     NaN      NaN      NaN     NaN  \n",
       "41      NaN     NaN      NaN      NaN     NaN  \n",
       "42  0.67130  0.8240  0.45670  0.33670   2.017  \n",
       "43  0.36850  0.0000      inf  0.00000     NaN  \n",
       "44  0.26620     NaN      NaN      NaN     NaN  \n",
       "45  0.36850  0.0000      inf  0.00000     NaN  \n",
       "46  0.06331  0.4704  0.41580  0.20820   1.063  \n",
       "47  0.26620     NaN      NaN      NaN     NaN  \n",
       "48      NaN     NaN      NaN      NaN     NaN  "
      ]
     },
     "execution_count": 81,
     "metadata": {},
     "output_type": "execute_result"
    }
   ],
   "source": [
    "SLC25A46_freq = pd.read_csv(f'{WORK_DIR}/coding_pheno_SLC25A46.assoc', delim_whitespace=True)\n",
    "SLC25A46_freq"
   ]
  },
  {
   "cell_type": "code",
   "execution_count": 82,
   "metadata": {},
   "outputs": [
    {
     "name": "stdout",
     "output_type": "stream",
     "text": [
      "PLINK v1.90b6.9 64-bit (4 Mar 2019)            www.cog-genomics.org/plink/1.9/\n",
      "(C) 2005-2019 Shaun Purcell, Christopher Chang   GNU General Public License v3\n",
      "Logging to SLC25A46_AMPPD_EUR_variants.log.\n",
      "Options in effect:\n",
      "  --bfile pheno_SLC25A46\n",
      "  --extract range reduced_coding.txt\n",
      "  --out SLC25A46_AMPPD_EUR_variants\n",
      "  --recode A\n",
      "\n",
      "3676 MB RAM detected; reserving 1838 MB for main workspace.\n",
      "1257 variants loaded from .bim file.\n",
      "10418 people (5782 males, 4636 females) loaded from .fam.\n",
      "7512 phenotype values loaded from .fam.\n",
      "--extract range: 1208 variants excluded.\n",
      "--extract range: 49 variants remaining.\n",
      "Using 1 thread.\n",
      "Before main variant filters, 10418 founders and 0 nonfounders present.\n",
      "Calculating allele frequencies... 10111213141516171819202122232425262728293031323334353637383940414243444546474849505152535455565758596061626364656667686970717273747576777879808182838485868788899091929394959697989 done.\n",
      "Total genotyping rate is 0.999996.\n",
      "49 variants and 10418 people pass filters and QC.\n",
      "Among remaining phenotypes, 3359 are cases and 4153 are controls.  (2906\n",
      "phenotypes are missing.)\n",
      "--recode A to SLC25A46_AMPPD_EUR_variants.raw ... 101112131415161718192021222324252627282930313233343536373839404142434445464748495051525354555657585960616263646566676869707172737475767778798081828384858687888990919293949596979899done.\n"
     ]
    }
   ],
   "source": [
    "%%bash\n",
    "\n",
    "WORK_DIR='/home/jupyter/SLC25A46_AMPPD/'\n",
    "cd $WORK_DIR\n",
    "\n",
    "/home/jupyter/tools/plink --bfile pheno_SLC25A46 --extract range reduced_coding.txt --recode A --out SLC25A46_AMPPD_EUR_variants"
   ]
  },
  {
   "cell_type": "code",
   "execution_count": null,
   "metadata": {},
   "outputs": [],
   "source": [
    "SLC25A46_AMPPD_EUR_variants_recode = pd.read_csv(f'{WORK_DIR}/SLC25A46_AMPPD_EUR_variants.raw', delim_whitespace=True)\n",
    "SLC25A46_AMPPD_EUR_variants_recode"
   ]
  },
  {
   "cell_type": "markdown",
   "metadata": {},
   "source": [
    "### SLC25A46 5:110739171_T"
   ]
  },
  {
   "cell_type": "code",
   "execution_count": null,
   "metadata": {},
   "outputs": [],
   "source": [
    "SLC25A46_AMPPD_EUR_variants_recode[(SLC25A46_AMPPD_EUR_variants_recode['5:110739171_T']==1)&(SLC25A46_AMPPD_EUR_variants_recode['PHENOTYPE']==2)]"
   ]
  },
  {
   "cell_type": "code",
   "execution_count": null,
   "metadata": {
    "scrolled": true
   },
   "outputs": [],
   "source": [
    "SLC25A46_AMPPD_EUR_variants_recode[(SLC25A46_AMPPD_EUR_variants_recode['5:110739171_T']==1)&(SLC25A46_AMPPD_EUR_variants_recode['PHENOTYPE']==1)]"
   ]
  },
  {
   "cell_type": "code",
   "execution_count": null,
   "metadata": {},
   "outputs": [],
   "source": [
    "SLC25A46_AMPPD_EUR_variants_recode[(SLC25A46_AMPPD_EUR_variants_recode['5:110739171_T']==2)&(SLC25A46_AMPPD_EUR_variants_recode['PHENOTYPE']==2)]"
   ]
  },
  {
   "cell_type": "code",
   "execution_count": null,
   "metadata": {
    "scrolled": true
   },
   "outputs": [],
   "source": [
    "SLC25A46_AMPPD_EUR_variants_recode[(SLC25A46_AMPPD_EUR_variants_recode['5:110739171_T']==2)&(SLC25A46_AMPPD_EUR_variants_recode['PHENOTYPE']==1)]"
   ]
  },
  {
   "cell_type": "markdown",
   "metadata": {},
   "source": [
    "### GCH1 p.Gly203Arg"
   ]
  },
  {
   "cell_type": "code",
   "execution_count": null,
   "metadata": {},
   "outputs": [],
   "source": [
    "GCH1_AMPPD_EUR_variants_recode[(GCH1_AMPPD_EUR_variants_recode['14:54845787_T']==1)&(GCH1_AMPPD_EUR_variants_recode['PHENOTYPE']==2)]"
   ]
  },
  {
   "cell_type": "code",
   "execution_count": null,
   "metadata": {},
   "outputs": [],
   "source": [
    "GCH1_AMPPD_EUR_variants_recode[(GCH1_AMPPD_EUR_variants_recode['14:54845787_T']==1)&(GCH1_AMPPD_EUR_variants_recode['PHENOTYPE']==1)]"
   ]
  },
  {
   "cell_type": "code",
   "execution_count": null,
   "metadata": {},
   "outputs": [],
   "source": [
    "GCH1_AMPPD_EUR_variants_recode[(GCH1_AMPPD_EUR_variants_recode['14:54845787_T']==2)&(GCH1_AMPPD_EUR_variants_recode['PHENOTYPE']==1)]"
   ]
  },
  {
   "cell_type": "code",
   "execution_count": null,
   "metadata": {
    "scrolled": false
   },
   "outputs": [],
   "source": [
    "GCH1_AMPPD_EUR_variants_recode[(GCH1_AMPPD_EUR_variants_recode['14:54845787_T']==2)&(GCH1_AMPPD_EUR_variants_recode['PHENOTYPE']==2)]"
   ]
  },
  {
   "cell_type": "markdown",
   "metadata": {},
   "source": [
    "### GCH1 p.Gln103His"
   ]
  },
  {
   "cell_type": "code",
   "execution_count": null,
   "metadata": {},
   "outputs": [],
   "source": [
    "GCH1_AMPPD_EUR_variants_recode[(GCH1_AMPPD_EUR_variants_recode['14:54902355_G']==2)&(GCH1_AMPPD_EUR_variants_recode['PHENOTYPE']==2)]"
   ]
  },
  {
   "cell_type": "code",
   "execution_count": null,
   "metadata": {},
   "outputs": [],
   "source": [
    "GCH1_AMPPD_EUR_variants_recode[(GCH1_AMPPD_EUR_variants_recode['14:54902355_G']==2)&(GCH1_AMPPD_EUR_variants_recode['PHENOTYPE']==1)]"
   ]
  },
  {
   "cell_type": "code",
   "execution_count": null,
   "metadata": {},
   "outputs": [],
   "source": [
    "GCH1_AMPPD_EUR_variants_recode[(GCH1_AMPPD_EUR_variants_recode['14:54902355_G']==1)&(GCH1_AMPPD_EUR_variants_recode['PHENOTYPE']==1)]"
   ]
  },
  {
   "cell_type": "code",
   "execution_count": null,
   "metadata": {
    "scrolled": true
   },
   "outputs": [],
   "source": [
    "GCH1_AMPPD_EUR_variants_recode[(GCH1_AMPPD_EUR_variants_recode['14:54902355_G']==1)&(GCH1_AMPPD_EUR_variants_recode['PHENOTYPE']==2)]"
   ]
  },
  {
   "cell_type": "markdown",
   "metadata": {},
   "source": [
    "## Save out results..!"
   ]
  },
  {
   "cell_type": "code",
   "execution_count": null,
   "metadata": {
    "scrolled": true
   },
   "outputs": [],
   "source": [
    "shell_do(f'gsutil -mu {BILLING_PROJECT_ID} cp -r {WORK_DIR} {WORKSPACE_BUCKET}')"
   ]
  },
  {
   "cell_type": "code",
   "execution_count": null,
   "metadata": {},
   "outputs": [],
   "source": []
  }
 ],
 "metadata": {
  "kernelspec": {
   "display_name": "Python 3",
   "language": "python",
   "name": "python3"
  },
  "language_info": {
   "codemirror_mode": {
    "name": "ipython",
    "version": 3
   },
   "file_extension": ".py",
   "mimetype": "text/x-python",
   "name": "python",
   "nbconvert_exporter": "python",
   "pygments_lexer": "ipython3",
   "version": "3.10.12"
  },
  "toc": {
   "base_numbering": 1,
   "nav_menu": {},
   "number_sections": true,
   "sideBar": true,
   "skip_h1_title": false,
   "title_cell": "Table of Contents",
   "title_sidebar": "Contents",
   "toc_cell": false,
   "toc_position": {},
   "toc_section_display": true,
   "toc_window_display": false
  }
 },
 "nbformat": 4,
 "nbformat_minor": 2
}
